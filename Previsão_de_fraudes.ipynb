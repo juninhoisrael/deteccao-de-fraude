{
  "nbformat": 4,
  "nbformat_minor": 0,
  "metadata": {
    "colab": {
      "name": "Previsão de fraudes.ipynb",
      "provenance": [],
      "collapsed_sections": [],
      "include_colab_link": true
    },
    "kernelspec": {
      "display_name": "Python 3",
      "language": "python",
      "name": "python3"
    },
    "language_info": {
      "codemirror_mode": {
        "name": "ipython",
        "version": 3
      },
      "file_extension": ".py",
      "mimetype": "text/x-python",
      "name": "python",
      "nbconvert_exporter": "python",
      "pygments_lexer": "ipython3",
      "version": "3.7.10"
    }
  },
  "cells": [
    {
      "cell_type": "markdown",
      "metadata": {
        "id": "view-in-github",
        "colab_type": "text"
      },
      "source": [
        "<a href=\"https://colab.research.google.com/github/juninhoisrael/deteccao-de-fraude/blob/main/Previs%C3%A3o_de_fraudes.ipynb\" target=\"_parent\"><img src=\"https://colab.research.google.com/assets/colab-badge.svg\" alt=\"Open In Colab\"/></a>"
      ]
    },
    {
      "cell_type": "markdown",
      "metadata": {
        "id": "xeVLadt3-Vrq"
      },
      "source": [
        "# Previsão de fraudes em serviços de pagamento financeiro\n",
        "Considerando que o objetivo dos fraudadores em geral é terem benefícios monetários, torna evidente que o setor financeiro é um dos seus principais alvos. Mesmo o crescente investimento em ações preventivas e de monitoramento não têm sido suficientes para barrar ou frear a escalada dos criminosos. De acordo com a Psafe (https://www.psafe.com/), de janeiro a agosto do ano passado foram 920 mil casos somente no Brasil e a cada minuto, 3,6 fraudes acontecem no país. Foram detectados, por exemplo, mais de 11 milhões de tentativas de fishing bancário.\n",
        "\n",
        "A indústria financeira possui grande representatividade no Brasil e no mundo. Para se ter uma ideia, os ativos dos bancos no Brasil somam R$ 7,4 trilhões, superando o próprio PIB do país (Infomoney)(https://www.infomoney.com.br/economia/ativos-de-bancos-somam-r-74-trilhoes-e-superam-pib-brasileiro/), 25-05-2020).\n",
        "\n",
        " De acordo com a ABECS(https://www.abecs.org.br/) (Associação Brasileira das Empresas de Cartão de Crédito e Serviços), foram movimentados R$ 558 bilhões  no primeiro trimestre de 2021 e os cartões de crédito representaram R$ 335 bilhões desse total. Foram 6,5 bilhões de transações, um crescimento de 11,8%, com destaque para cartão de débito que apresentou aumento de 163% (veja quadros abaixo). Apesar da opulência destes números, o impacto das fraudes é igualmente gritante. Os crimes cibernéticos, considerando apenas transações de cartão de crédito, já projetavam em 2018 um impacto de 6 trilhões de dólares de perda de receita até 2021 ao redor do mundo.\n",
        "Neste cenário, a inteligência artificial surge como uma ferramenta que dá mais robustez, agilidade e flexibilidade para combater a fraude, trabalhando 24 horas por dia, 7 dias por semana, tornando-se um caminho mais do que possível, necessário para que as instituições financeiras possam combater de forma efetiva os fraudadores. Um exemplo disso é a American Express, com mais de 115 milhões de cartões de crédito ativos, que combate às fraudes utilizando inferência e Deep Learning, reduzindo gastos relacionados a fraudes em U$ 1,2 trilhões, em processos de detecção que acontecem em milisegundos. Fato que garante à empresa o menor índice de fraudes no mundo por 13 anos consecutivos."
      ]
    },
    {
      "cell_type": "markdown",
      "metadata": {
        "id": "r3KWx8KrC9iZ"
      },
      "source": [
        "# Preparação do Ambiente\n",
        "\n",
        "Nesta seção vamos importar os pacotes que são necessários para a execução deste notebook.\n"
      ]
    },
    {
      "cell_type": "markdown",
      "metadata": {
        "id": "vj9ryguB-Vrs"
      },
      "source": [
        "## Importação dos pacotes em Python"
      ]
    },
    {
      "cell_type": "code",
      "metadata": {
        "id": "yaIrxJIO-Vrt",
        "scrolled": true
      },
      "source": [
        "import warnings\n",
        "warnings.filterwarnings('ignore')\n",
        "\n",
        "# Bibliotecas para tratamento de dados em cpu\n",
        "import pandas as pd\n",
        "import numpy as np\n",
        "\n",
        "# Bibliotecas para visualização\n",
        "import matplotlib.pyplot as plt\n",
        "import seaborn as sns\n",
        "\n",
        "# Bibliotecas para treinamento e cálculo de métricas em CPU\n",
        "from sklearn.preprocessing import Normalizer, LabelEncoder\n",
        "from sklearn.model_selection import train_test_split as cpu_train_test_split\n",
        "from sklearn.ensemble import RandomForestClassifier as cpu_RandomForestClassifier\n",
        "from sklearn.metrics import accuracy_score as cpu_accuracy_score\n",
        "from sklearn.metrics import confusion_matrix as cpu_confusion_matrix\n",
        "from sklearn.metrics import ConfusionMatrixDisplay\n",
        "from sklearn.metrics import accuracy_score, recall_score, precision_score, \\\n",
        "                             f1_score, roc_auc_score, confusion_matrix, \\\n",
        "                             classification_report\n",
        "\n",
        "from sklearn.tree import DecisionTreeClassifier \n",
        "from sklearn.model_selection import RandomizedSearchCV\n",
        "from sklearn.model_selection import RepeatedStratifiedKFold\n",
        "\n",
        "validacao = RepeatedStratifiedKFold(n_splits = 5, n_repeats = 1)\n",
        "from sklearn.metrics import precision_recall_curve, plot_roc_curve, auc, average_precision_score\n",
        "\n",
        "# Algoritmo XGBoost\n",
        "from xgboost import XGBClassifier\n",
        "from xgboost import plot_importance, to_graphviz"
      ],
      "execution_count": 133,
      "outputs": []
    },
    {
      "cell_type": "code",
      "metadata": {
        "id": "HSiYuwrI-Vru"
      },
      "source": [
        "# Evita que o pandas apresente valores em notação científica\n",
        "pd.set_option('display.float_format', lambda x: '%.5f' % x)"
      ],
      "execution_count": 2,
      "outputs": []
    },
    {
      "cell_type": "markdown",
      "metadata": {
        "id": "gUJx6VGI-Vrv"
      },
      "source": [
        "## Carregamento do Dataset\n",
        "\n",
        "Nesta seção estamos carregando o dataset de fraudes em transações bancárias a partir do google drive."
      ]
    },
    {
      "cell_type": "code",
      "metadata": {
        "colab": {
          "base_uri": "https://localhost:8080/",
          "height": 164
        },
        "id": "n8e8GhtTHKxm",
        "outputId": "3b9b30b8-e6f5-4b7b-d53d-81c3be38be19"
      },
      "source": [
        "%%time\n",
        "from google.colab import drive # Caso a leitura desse código seja feito pelo Colab, será necessário importar do drive\n",
        "drive.mount('/content/drive')\n",
        "data = pd.read_csv('/content/drive/MyDrive/Colab Notebooks/TERA/desafio classificação/fraud.csv')  # Leitura do Banco de dados \n",
        "display(data.head(2))\n",
        "data.head(2)"
      ],
      "execution_count": 3,
      "outputs": [
        {
          "output_type": "stream",
          "name": "stdout",
          "text": [
            "Mounted at /content/drive\n"
          ]
        },
        {
          "output_type": "display_data",
          "data": {
            "text/plain": [
              "   step     type     amount     nameOrig  oldbalanceOrg  newbalanceOrig  \\\n",
              "0     1  PAYMENT 9839.64000  C1231006815   170136.00000    160296.36000   \n",
              "1     1  PAYMENT 1864.28000  C1666544295    21249.00000     19384.72000   \n",
              "\n",
              "      nameDest  oldbalanceDest  newbalanceDest  isFraud  isFlaggedFraud  \n",
              "0  M1979787155         0.00000         0.00000        0               0  \n",
              "1  M2044282225         0.00000         0.00000        0               0  "
            ],
            "text/html": [
              "\n",
              "  <div id=\"df-cd0e4cf9-8a45-47ef-a7b7-5adf4b912b67\">\n",
              "    <div class=\"colab-df-container\">\n",
              "      <div>\n",
              "<style scoped>\n",
              "    .dataframe tbody tr th:only-of-type {\n",
              "        vertical-align: middle;\n",
              "    }\n",
              "\n",
              "    .dataframe tbody tr th {\n",
              "        vertical-align: top;\n",
              "    }\n",
              "\n",
              "    .dataframe thead th {\n",
              "        text-align: right;\n",
              "    }\n",
              "</style>\n",
              "<table border=\"1\" class=\"dataframe\">\n",
              "  <thead>\n",
              "    <tr style=\"text-align: right;\">\n",
              "      <th></th>\n",
              "      <th>step</th>\n",
              "      <th>type</th>\n",
              "      <th>amount</th>\n",
              "      <th>nameOrig</th>\n",
              "      <th>oldbalanceOrg</th>\n",
              "      <th>newbalanceOrig</th>\n",
              "      <th>nameDest</th>\n",
              "      <th>oldbalanceDest</th>\n",
              "      <th>newbalanceDest</th>\n",
              "      <th>isFraud</th>\n",
              "      <th>isFlaggedFraud</th>\n",
              "    </tr>\n",
              "  </thead>\n",
              "  <tbody>\n",
              "    <tr>\n",
              "      <th>0</th>\n",
              "      <td>1</td>\n",
              "      <td>PAYMENT</td>\n",
              "      <td>9839.64000</td>\n",
              "      <td>C1231006815</td>\n",
              "      <td>170136.00000</td>\n",
              "      <td>160296.36000</td>\n",
              "      <td>M1979787155</td>\n",
              "      <td>0.00000</td>\n",
              "      <td>0.00000</td>\n",
              "      <td>0</td>\n",
              "      <td>0</td>\n",
              "    </tr>\n",
              "    <tr>\n",
              "      <th>1</th>\n",
              "      <td>1</td>\n",
              "      <td>PAYMENT</td>\n",
              "      <td>1864.28000</td>\n",
              "      <td>C1666544295</td>\n",
              "      <td>21249.00000</td>\n",
              "      <td>19384.72000</td>\n",
              "      <td>M2044282225</td>\n",
              "      <td>0.00000</td>\n",
              "      <td>0.00000</td>\n",
              "      <td>0</td>\n",
              "      <td>0</td>\n",
              "    </tr>\n",
              "  </tbody>\n",
              "</table>\n",
              "</div>\n",
              "      <button class=\"colab-df-convert\" onclick=\"convertToInteractive('df-cd0e4cf9-8a45-47ef-a7b7-5adf4b912b67')\"\n",
              "              title=\"Convert this dataframe to an interactive table.\"\n",
              "              style=\"display:none;\">\n",
              "        \n",
              "  <svg xmlns=\"http://www.w3.org/2000/svg\" height=\"24px\"viewBox=\"0 0 24 24\"\n",
              "       width=\"24px\">\n",
              "    <path d=\"M0 0h24v24H0V0z\" fill=\"none\"/>\n",
              "    <path d=\"M18.56 5.44l.94 2.06.94-2.06 2.06-.94-2.06-.94-.94-2.06-.94 2.06-2.06.94zm-11 1L8.5 8.5l.94-2.06 2.06-.94-2.06-.94L8.5 2.5l-.94 2.06-2.06.94zm10 10l.94 2.06.94-2.06 2.06-.94-2.06-.94-.94-2.06-.94 2.06-2.06.94z\"/><path d=\"M17.41 7.96l-1.37-1.37c-.4-.4-.92-.59-1.43-.59-.52 0-1.04.2-1.43.59L10.3 9.45l-7.72 7.72c-.78.78-.78 2.05 0 2.83L4 21.41c.39.39.9.59 1.41.59.51 0 1.02-.2 1.41-.59l7.78-7.78 2.81-2.81c.8-.78.8-2.07 0-2.86zM5.41 20L4 18.59l7.72-7.72 1.47 1.35L5.41 20z\"/>\n",
              "  </svg>\n",
              "      </button>\n",
              "      \n",
              "  <style>\n",
              "    .colab-df-container {\n",
              "      display:flex;\n",
              "      flex-wrap:wrap;\n",
              "      gap: 12px;\n",
              "    }\n",
              "\n",
              "    .colab-df-convert {\n",
              "      background-color: #E8F0FE;\n",
              "      border: none;\n",
              "      border-radius: 50%;\n",
              "      cursor: pointer;\n",
              "      display: none;\n",
              "      fill: #1967D2;\n",
              "      height: 32px;\n",
              "      padding: 0 0 0 0;\n",
              "      width: 32px;\n",
              "    }\n",
              "\n",
              "    .colab-df-convert:hover {\n",
              "      background-color: #E2EBFA;\n",
              "      box-shadow: 0px 1px 2px rgba(60, 64, 67, 0.3), 0px 1px 3px 1px rgba(60, 64, 67, 0.15);\n",
              "      fill: #174EA6;\n",
              "    }\n",
              "\n",
              "    [theme=dark] .colab-df-convert {\n",
              "      background-color: #3B4455;\n",
              "      fill: #D2E3FC;\n",
              "    }\n",
              "\n",
              "    [theme=dark] .colab-df-convert:hover {\n",
              "      background-color: #434B5C;\n",
              "      box-shadow: 0px 1px 3px 1px rgba(0, 0, 0, 0.15);\n",
              "      filter: drop-shadow(0px 1px 2px rgba(0, 0, 0, 0.3));\n",
              "      fill: #FFFFFF;\n",
              "    }\n",
              "  </style>\n",
              "\n",
              "      <script>\n",
              "        const buttonEl =\n",
              "          document.querySelector('#df-cd0e4cf9-8a45-47ef-a7b7-5adf4b912b67 button.colab-df-convert');\n",
              "        buttonEl.style.display =\n",
              "          google.colab.kernel.accessAllowed ? 'block' : 'none';\n",
              "\n",
              "        async function convertToInteractive(key) {\n",
              "          const element = document.querySelector('#df-cd0e4cf9-8a45-47ef-a7b7-5adf4b912b67');\n",
              "          const dataTable =\n",
              "            await google.colab.kernel.invokeFunction('convertToInteractive',\n",
              "                                                     [key], {});\n",
              "          if (!dataTable) return;\n",
              "\n",
              "          const docLinkHtml = 'Like what you see? Visit the ' +\n",
              "            '<a target=\"_blank\" href=https://colab.research.google.com/notebooks/data_table.ipynb>data table notebook</a>'\n",
              "            + ' to learn more about interactive tables.';\n",
              "          element.innerHTML = '';\n",
              "          dataTable['output_type'] = 'display_data';\n",
              "          await google.colab.output.renderOutput(dataTable, element);\n",
              "          const docLink = document.createElement('div');\n",
              "          docLink.innerHTML = docLinkHtml;\n",
              "          element.appendChild(docLink);\n",
              "        }\n",
              "      </script>\n",
              "    </div>\n",
              "  </div>\n",
              "  "
            ]
          },
          "metadata": {}
        },
        {
          "output_type": "stream",
          "name": "stdout",
          "text": [
            "CPU times: user 17.8 s, sys: 3.47 s, total: 21.3 s\n",
            "Wall time: 1min 6s\n"
          ]
        }
      ]
    },
    {
      "cell_type": "markdown",
      "source": [
        "Dicionário\n",
        "- step - Passo: representa o total de horas transcorrido desde o início da simulação. Esta feature vai variar entre 1 e 744 (30 dias);\n",
        "\n",
        "- type - Tipo: tipo de transação (depósito, saque, débito, pagamento e transferência);\n",
        "\n",
        "- amount - Quantia: total que foi transacionado;\n",
        "\n",
        "- nameOrig - ClienteOrigem: cliente que iniciou a transação\n",
        "\n",
        "- oldbalanceOrg - SaldoInicialOrigem: saldo da conta de origem antes da transação;\n",
        "\n",
        "- newbalanceOrig - SaldoFinalOrigem: saldo da conta de origem após a transação;\n",
        "\n",
        "- nameDest - ClienteDestino: cliente de destino da transação;\n",
        "\n",
        "- oldbalanceDest - SaldoInicialDestino: saldo da conta de destino antes da transação;\n",
        "\n",
        "- newbalanceDest - SaldoFinalDestino: saldo da conta de destino após a transação;\n",
        "\n",
        "- isFraud - ÉFraude: flag que define se a transação é fraudulenta ou não. Nesta simulação o objetivo da fraude é assumir a conta do usuário, esvaziá-la transferindo para outra conta e então sacando o dinheiro.\n",
        "\n",
        "- isFlaggedFraud - SinalizadaComoFraude: automaticamente marcadas pelo banco como fraude por tentarem transferir mais de 200.000 em uma única transação."
      ],
      "metadata": {
        "id": "PgVAkjhOeHNg"
      }
    },
    {
      "cell_type": "code",
      "metadata": {
        "id": "afXdO_mE7VB0",
        "outputId": "58f41847-66ea-45dd-d711-c45ce4e46f80",
        "colab": {
          "base_uri": "https://localhost:8080/"
        }
      },
      "source": [
        "%%time\n",
        "data.columns # Verificação das colunas"
      ],
      "execution_count": 4,
      "outputs": [
        {
          "output_type": "stream",
          "name": "stdout",
          "text": [
            "CPU times: user 11 µs, sys: 2 µs, total: 13 µs\n",
            "Wall time: 18.6 µs\n"
          ]
        },
        {
          "output_type": "execute_result",
          "data": {
            "text/plain": [
              "Index(['step', 'type', 'amount', 'nameOrig', 'oldbalanceOrg', 'newbalanceOrig',\n",
              "       'nameDest', 'oldbalanceDest', 'newbalanceDest', 'isFraud',\n",
              "       'isFlaggedFraud'],\n",
              "      dtype='object')"
            ]
          },
          "metadata": {},
          "execution_count": 4
        }
      ]
    },
    {
      "cell_type": "markdown",
      "metadata": {
        "id": "My1rZlQAHAS9"
      },
      "source": [
        "## Avaliando o dataset"
      ]
    },
    {
      "cell_type": "code",
      "metadata": {
        "colab": {
          "base_uri": "https://localhost:8080/"
        },
        "id": "99YfIvU2-Vrv",
        "outputId": "ed8668c5-5ced-4ef5-b7cc-c0f98cd64d72"
      },
      "source": [
        "%%time\n",
        "data.type.unique() #Identificar valores únicos da série tipos de transação"
      ],
      "execution_count": 5,
      "outputs": [
        {
          "output_type": "stream",
          "name": "stdout",
          "text": [
            "CPU times: user 336 ms, sys: 1.5 ms, total: 337 ms\n",
            "Wall time: 343 ms\n"
          ]
        },
        {
          "output_type": "execute_result",
          "data": {
            "text/plain": [
              "array(['PAYMENT', 'TRANSFER', 'CASH_OUT', 'DEBIT', 'CASH_IN'],\n",
              "      dtype=object)"
            ]
          },
          "metadata": {},
          "execution_count": 5
        }
      ]
    },
    {
      "cell_type": "code",
      "metadata": {
        "colab": {
          "base_uri": "https://localhost:8080/"
        },
        "id": "wkjLaGK9-Vrw",
        "scrolled": true,
        "outputId": "67ec512f-db9d-4f2b-eb94-2fa7660bd190"
      },
      "source": [
        "%%time\n",
        "data.info() # Observação geral do dataset"
      ],
      "execution_count": 6,
      "outputs": [
        {
          "output_type": "stream",
          "name": "stdout",
          "text": [
            "<class 'pandas.core.frame.DataFrame'>\n",
            "RangeIndex: 6362620 entries, 0 to 6362619\n",
            "Data columns (total 11 columns):\n",
            " #   Column          Dtype  \n",
            "---  ------          -----  \n",
            " 0   step            int64  \n",
            " 1   type            object \n",
            " 2   amount          float64\n",
            " 3   nameOrig        object \n",
            " 4   oldbalanceOrg   float64\n",
            " 5   newbalanceOrig  float64\n",
            " 6   nameDest        object \n",
            " 7   oldbalanceDest  float64\n",
            " 8   newbalanceDest  float64\n",
            " 9   isFraud         int64  \n",
            " 10  isFlaggedFraud  int64  \n",
            "dtypes: float64(5), int64(3), object(3)\n",
            "memory usage: 534.0+ MB\n",
            "CPU times: user 11.3 ms, sys: 2.7 ms, total: 14.1 ms\n",
            "Wall time: 26.2 ms\n"
          ]
        }
      ]
    },
    {
      "cell_type": "code",
      "metadata": {
        "colab": {
          "base_uri": "https://localhost:8080/"
        },
        "id": "L_ZVRzK0-Vrw",
        "outputId": "282d4bcc-8b98-4900-aa34-546c645825f9"
      },
      "source": [
        "%%time\n",
        "# Verifica valores faltantes\n",
        "data.isnull().sum()"
      ],
      "execution_count": 7,
      "outputs": [
        {
          "output_type": "stream",
          "name": "stdout",
          "text": [
            "CPU times: user 1.13 s, sys: 24.8 ms, total: 1.16 s\n",
            "Wall time: 1.14 s\n"
          ]
        },
        {
          "output_type": "execute_result",
          "data": {
            "text/plain": [
              "step              0\n",
              "type              0\n",
              "amount            0\n",
              "nameOrig          0\n",
              "oldbalanceOrg     0\n",
              "newbalanceOrig    0\n",
              "nameDest          0\n",
              "oldbalanceDest    0\n",
              "newbalanceDest    0\n",
              "isFraud           0\n",
              "isFlaggedFraud    0\n",
              "dtype: int64"
            ]
          },
          "metadata": {},
          "execution_count": 7
        }
      ]
    },
    {
      "cell_type": "markdown",
      "metadata": {
        "id": "xgFvXZD5-Vrx"
      },
      "source": [
        "## Análise Exploratória"
      ]
    },
    {
      "cell_type": "code",
      "metadata": {
        "id": "jM4J6h2u7VB5",
        "outputId": "005c70d1-ad4c-4e11-ffea-05be22b49cb1",
        "colab": {
          "base_uri": "https://localhost:8080/",
          "height": 335
        }
      },
      "source": [
        "%%time\n",
        "data.describe()"
      ],
      "execution_count": 8,
      "outputs": [
        {
          "output_type": "stream",
          "name": "stdout",
          "text": [
            "CPU times: user 1.9 s, sys: 25.8 ms, total: 1.93 s\n",
            "Wall time: 1.93 s\n"
          ]
        },
        {
          "output_type": "execute_result",
          "data": {
            "text/plain": [
              "               step         amount  oldbalanceOrg  newbalanceOrig  \\\n",
              "count 6362620.00000  6362620.00000  6362620.00000   6362620.00000   \n",
              "mean      243.39725   179861.90355   833883.10407    855113.66858   \n",
              "std       142.33197   603858.23146  2888242.67301   2924048.50297   \n",
              "min         1.00000        0.00000        0.00000         0.00000   \n",
              "25%       156.00000    13389.57000        0.00000         0.00000   \n",
              "50%       239.00000    74871.94000    14208.00000         0.00000   \n",
              "75%       335.00000   208721.47750   107315.17500    144258.41000   \n",
              "max       743.00000 92445516.64000 59585040.37000  49585040.37000   \n",
              "\n",
              "       oldbalanceDest  newbalanceDest       isFraud  isFlaggedFraud  \n",
              "count   6362620.00000   6362620.00000 6362620.00000   6362620.00000  \n",
              "mean    1100701.66652   1224996.39820       0.00129         0.00000  \n",
              "std     3399180.11297   3674128.94209       0.03590         0.00159  \n",
              "min           0.00000         0.00000       0.00000         0.00000  \n",
              "25%           0.00000         0.00000       0.00000         0.00000  \n",
              "50%      132705.66500    214661.44000       0.00000         0.00000  \n",
              "75%      943036.70750   1111909.25000       0.00000         0.00000  \n",
              "max   356015889.35000 356179278.92000       1.00000         1.00000  "
            ],
            "text/html": [
              "\n",
              "  <div id=\"df-1e0cb6ae-f883-4e43-967c-4bcf9acba1f3\">\n",
              "    <div class=\"colab-df-container\">\n",
              "      <div>\n",
              "<style scoped>\n",
              "    .dataframe tbody tr th:only-of-type {\n",
              "        vertical-align: middle;\n",
              "    }\n",
              "\n",
              "    .dataframe tbody tr th {\n",
              "        vertical-align: top;\n",
              "    }\n",
              "\n",
              "    .dataframe thead th {\n",
              "        text-align: right;\n",
              "    }\n",
              "</style>\n",
              "<table border=\"1\" class=\"dataframe\">\n",
              "  <thead>\n",
              "    <tr style=\"text-align: right;\">\n",
              "      <th></th>\n",
              "      <th>step</th>\n",
              "      <th>amount</th>\n",
              "      <th>oldbalanceOrg</th>\n",
              "      <th>newbalanceOrig</th>\n",
              "      <th>oldbalanceDest</th>\n",
              "      <th>newbalanceDest</th>\n",
              "      <th>isFraud</th>\n",
              "      <th>isFlaggedFraud</th>\n",
              "    </tr>\n",
              "  </thead>\n",
              "  <tbody>\n",
              "    <tr>\n",
              "      <th>count</th>\n",
              "      <td>6362620.00000</td>\n",
              "      <td>6362620.00000</td>\n",
              "      <td>6362620.00000</td>\n",
              "      <td>6362620.00000</td>\n",
              "      <td>6362620.00000</td>\n",
              "      <td>6362620.00000</td>\n",
              "      <td>6362620.00000</td>\n",
              "      <td>6362620.00000</td>\n",
              "    </tr>\n",
              "    <tr>\n",
              "      <th>mean</th>\n",
              "      <td>243.39725</td>\n",
              "      <td>179861.90355</td>\n",
              "      <td>833883.10407</td>\n",
              "      <td>855113.66858</td>\n",
              "      <td>1100701.66652</td>\n",
              "      <td>1224996.39820</td>\n",
              "      <td>0.00129</td>\n",
              "      <td>0.00000</td>\n",
              "    </tr>\n",
              "    <tr>\n",
              "      <th>std</th>\n",
              "      <td>142.33197</td>\n",
              "      <td>603858.23146</td>\n",
              "      <td>2888242.67301</td>\n",
              "      <td>2924048.50297</td>\n",
              "      <td>3399180.11297</td>\n",
              "      <td>3674128.94209</td>\n",
              "      <td>0.03590</td>\n",
              "      <td>0.00159</td>\n",
              "    </tr>\n",
              "    <tr>\n",
              "      <th>min</th>\n",
              "      <td>1.00000</td>\n",
              "      <td>0.00000</td>\n",
              "      <td>0.00000</td>\n",
              "      <td>0.00000</td>\n",
              "      <td>0.00000</td>\n",
              "      <td>0.00000</td>\n",
              "      <td>0.00000</td>\n",
              "      <td>0.00000</td>\n",
              "    </tr>\n",
              "    <tr>\n",
              "      <th>25%</th>\n",
              "      <td>156.00000</td>\n",
              "      <td>13389.57000</td>\n",
              "      <td>0.00000</td>\n",
              "      <td>0.00000</td>\n",
              "      <td>0.00000</td>\n",
              "      <td>0.00000</td>\n",
              "      <td>0.00000</td>\n",
              "      <td>0.00000</td>\n",
              "    </tr>\n",
              "    <tr>\n",
              "      <th>50%</th>\n",
              "      <td>239.00000</td>\n",
              "      <td>74871.94000</td>\n",
              "      <td>14208.00000</td>\n",
              "      <td>0.00000</td>\n",
              "      <td>132705.66500</td>\n",
              "      <td>214661.44000</td>\n",
              "      <td>0.00000</td>\n",
              "      <td>0.00000</td>\n",
              "    </tr>\n",
              "    <tr>\n",
              "      <th>75%</th>\n",
              "      <td>335.00000</td>\n",
              "      <td>208721.47750</td>\n",
              "      <td>107315.17500</td>\n",
              "      <td>144258.41000</td>\n",
              "      <td>943036.70750</td>\n",
              "      <td>1111909.25000</td>\n",
              "      <td>0.00000</td>\n",
              "      <td>0.00000</td>\n",
              "    </tr>\n",
              "    <tr>\n",
              "      <th>max</th>\n",
              "      <td>743.00000</td>\n",
              "      <td>92445516.64000</td>\n",
              "      <td>59585040.37000</td>\n",
              "      <td>49585040.37000</td>\n",
              "      <td>356015889.35000</td>\n",
              "      <td>356179278.92000</td>\n",
              "      <td>1.00000</td>\n",
              "      <td>1.00000</td>\n",
              "    </tr>\n",
              "  </tbody>\n",
              "</table>\n",
              "</div>\n",
              "      <button class=\"colab-df-convert\" onclick=\"convertToInteractive('df-1e0cb6ae-f883-4e43-967c-4bcf9acba1f3')\"\n",
              "              title=\"Convert this dataframe to an interactive table.\"\n",
              "              style=\"display:none;\">\n",
              "        \n",
              "  <svg xmlns=\"http://www.w3.org/2000/svg\" height=\"24px\"viewBox=\"0 0 24 24\"\n",
              "       width=\"24px\">\n",
              "    <path d=\"M0 0h24v24H0V0z\" fill=\"none\"/>\n",
              "    <path d=\"M18.56 5.44l.94 2.06.94-2.06 2.06-.94-2.06-.94-.94-2.06-.94 2.06-2.06.94zm-11 1L8.5 8.5l.94-2.06 2.06-.94-2.06-.94L8.5 2.5l-.94 2.06-2.06.94zm10 10l.94 2.06.94-2.06 2.06-.94-2.06-.94-.94-2.06-.94 2.06-2.06.94z\"/><path d=\"M17.41 7.96l-1.37-1.37c-.4-.4-.92-.59-1.43-.59-.52 0-1.04.2-1.43.59L10.3 9.45l-7.72 7.72c-.78.78-.78 2.05 0 2.83L4 21.41c.39.39.9.59 1.41.59.51 0 1.02-.2 1.41-.59l7.78-7.78 2.81-2.81c.8-.78.8-2.07 0-2.86zM5.41 20L4 18.59l7.72-7.72 1.47 1.35L5.41 20z\"/>\n",
              "  </svg>\n",
              "      </button>\n",
              "      \n",
              "  <style>\n",
              "    .colab-df-container {\n",
              "      display:flex;\n",
              "      flex-wrap:wrap;\n",
              "      gap: 12px;\n",
              "    }\n",
              "\n",
              "    .colab-df-convert {\n",
              "      background-color: #E8F0FE;\n",
              "      border: none;\n",
              "      border-radius: 50%;\n",
              "      cursor: pointer;\n",
              "      display: none;\n",
              "      fill: #1967D2;\n",
              "      height: 32px;\n",
              "      padding: 0 0 0 0;\n",
              "      width: 32px;\n",
              "    }\n",
              "\n",
              "    .colab-df-convert:hover {\n",
              "      background-color: #E2EBFA;\n",
              "      box-shadow: 0px 1px 2px rgba(60, 64, 67, 0.3), 0px 1px 3px 1px rgba(60, 64, 67, 0.15);\n",
              "      fill: #174EA6;\n",
              "    }\n",
              "\n",
              "    [theme=dark] .colab-df-convert {\n",
              "      background-color: #3B4455;\n",
              "      fill: #D2E3FC;\n",
              "    }\n",
              "\n",
              "    [theme=dark] .colab-df-convert:hover {\n",
              "      background-color: #434B5C;\n",
              "      box-shadow: 0px 1px 3px 1px rgba(0, 0, 0, 0.15);\n",
              "      filter: drop-shadow(0px 1px 2px rgba(0, 0, 0, 0.3));\n",
              "      fill: #FFFFFF;\n",
              "    }\n",
              "  </style>\n",
              "\n",
              "      <script>\n",
              "        const buttonEl =\n",
              "          document.querySelector('#df-1e0cb6ae-f883-4e43-967c-4bcf9acba1f3 button.colab-df-convert');\n",
              "        buttonEl.style.display =\n",
              "          google.colab.kernel.accessAllowed ? 'block' : 'none';\n",
              "\n",
              "        async function convertToInteractive(key) {\n",
              "          const element = document.querySelector('#df-1e0cb6ae-f883-4e43-967c-4bcf9acba1f3');\n",
              "          const dataTable =\n",
              "            await google.colab.kernel.invokeFunction('convertToInteractive',\n",
              "                                                     [key], {});\n",
              "          if (!dataTable) return;\n",
              "\n",
              "          const docLinkHtml = 'Like what you see? Visit the ' +\n",
              "            '<a target=\"_blank\" href=https://colab.research.google.com/notebooks/data_table.ipynb>data table notebook</a>'\n",
              "            + ' to learn more about interactive tables.';\n",
              "          element.innerHTML = '';\n",
              "          dataTable['output_type'] = 'display_data';\n",
              "          await google.colab.output.renderOutput(dataTable, element);\n",
              "          const docLink = document.createElement('div');\n",
              "          docLink.innerHTML = docLinkHtml;\n",
              "          element.appendChild(docLink);\n",
              "        }\n",
              "      </script>\n",
              "    </div>\n",
              "  </div>\n",
              "  "
            ]
          },
          "metadata": {},
          "execution_count": 8
        }
      ]
    },
    {
      "cell_type": "code",
      "metadata": {
        "id": "VAyua_wg7VB5",
        "outputId": "c81f17c2-e7f0-43e6-de41-411d5306eda2",
        "colab": {
          "base_uri": "https://localhost:8080/"
        }
      },
      "source": [
        "%%time\n",
        "data.shape"
      ],
      "execution_count": 9,
      "outputs": [
        {
          "output_type": "stream",
          "name": "stdout",
          "text": [
            "CPU times: user 47 µs, sys: 8 µs, total: 55 µs\n",
            "Wall time: 60.3 µs\n"
          ]
        },
        {
          "output_type": "execute_result",
          "data": {
            "text/plain": [
              "(6362620, 11)"
            ]
          },
          "metadata": {},
          "execution_count": 9
        }
      ]
    },
    {
      "cell_type": "code",
      "metadata": {
        "id": "DoL1DAqp7VB6",
        "outputId": "57d55887-6e16-4df7-8653-978ca6b28740",
        "colab": {
          "base_uri": "https://localhost:8080/"
        }
      },
      "source": [
        "%%time\n",
        "# Drop Duplicates\n",
        "data.drop_duplicates(keep=False, inplace=True)"
      ],
      "execution_count": 10,
      "outputs": [
        {
          "output_type": "stream",
          "name": "stdout",
          "text": [
            "CPU times: user 25 s, sys: 249 ms, total: 25.3 s\n",
            "Wall time: 26.9 s\n"
          ]
        }
      ]
    },
    {
      "cell_type": "code",
      "source": [
        "print(data.type.value_counts())\n",
        "\n",
        "f, ax = plt.subplots(1, 1, figsize=(8, 8))\n",
        "data.type.value_counts().plot(kind='bar', title=\"Tipo de Transação\", ax=ax, figsize=(9,9))\n",
        "plt.show()"
      ],
      "metadata": {
        "colab": {
          "base_uri": "https://localhost:8080/",
          "height": 701
        },
        "id": "6nZ098Wk4ZUs",
        "outputId": "95ce46b6-d548-41d9-bfa6-849a2b746daa"
      },
      "execution_count": 11,
      "outputs": [
        {
          "output_type": "stream",
          "name": "stdout",
          "text": [
            "CASH_OUT    2237500\n",
            "PAYMENT     2151495\n",
            "CASH_IN     1399284\n",
            "TRANSFER     532909\n",
            "DEBIT         41432\n",
            "Name: type, dtype: int64\n"
          ]
        },
        {
          "output_type": "display_data",
          "data": {
            "text/plain": [
              "<Figure size 648x648 with 1 Axes>"
            ],
            "image/png": "[encoded data removed]"
          },
          "metadata": {
            "needs_background": "light"
          }
        }
      ]
    },
    {
      "cell_type": "markdown",
      "source": [
        "Podemos observar que existem 5 tipos de transações são elas:\n",
        "- Cash_out ou Saques\n",
        "- Payment ou Pagamentos\n",
        "- Cash_In ou Depósitos\n",
        "- Transfer ou Transferência\n",
        "- Debit ou Débito.\n",
        "-Bastante desbalanceado, visto que os 3 primeiros tipos representam a maioria dos dados.\n"
      ],
      "metadata": {
        "id": "CzygtrAs5icZ"
      }
    },
    {
      "cell_type": "markdown",
      "source": [
        "Podemos observar também duas colunas bastante interessantes para essa análise.\n",
        "- isFraud ou é fraude( Representa um indicador que indica se a transação é ou não fraude)\n",
        "- isFlaggedFraud ou Fraude sinalizada ( Representa os casos de transação onde o sistema prevê como fraude a partir de limites pré-estabelecidos pelo estabelicimento)"
      ],
      "metadata": {
        "id": "xzUH7ZjR6_ep"
      }
    },
    {
      "cell_type": "code",
      "source": [
        "ax = data.groupby(['type', 'isFraud']).size().plot(kind='bar')\n",
        "ax.set_title('{:>30}'.format(\"# Transação avaliada como fraude real por tipo de transação\"))\n",
        "ax.set_xlabel(\"(Type, isFraud)\")\n",
        "ax.set_ylabel(\"Contagem de transação\")\n",
        "for p in ax.patches:\n",
        "    ax.annotate(str(format(int(p.get_height()), ',d')), (p.get_x(), p.get_height()*1.01))"
      ],
      "metadata": {
        "colab": {
          "base_uri": "https://localhost:8080/",
          "height": 359
        },
        "id": "8GQm75WE8Qda",
        "outputId": "cb1eacd6-7cba-443d-d16f-2020c70bc7dd"
      },
      "execution_count": 12,
      "outputs": [
        {
          "output_type": "display_data",
          "data": {
            "text/plain": [
              "<Figure size 432x288 with 1 Axes>"
            ],
            "image/png": "[encoded data removed]"
          },
          "metadata": {
            "needs_background": "light"
          }
        }
      ]
    },
    {
      "cell_type": "markdown",
      "source": [
        "- Que tipos de transações são fraudulentas?\n",
        "- Constatamos que dos cinco tipos de transações, a fraude ocorre apenas em duas delas 'TRANSFER' onde o dinheiro é enviado para um cliente/fraudador e 'CASH_OUT' onde o dinheiro é enviado a um comerciante que paga o cliente/fraudador em dinheiro. Notavelmente, o número de TRANSFERÊNCIAS fraudulentas é quase igual ao número de CASH_OUTs fraudulentos."
      ],
      "metadata": {
        "id": "3o-xowGSoqxl"
      }
    },
    {
      "cell_type": "code",
      "source": [
        "ax = data.groupby(['type', 'isFlaggedFraud']).size().plot(kind='bar')\n",
        "ax.set_title(\"# transação sinalizada como fraude por tipo de transação\")\n",
        "ax.set_xlabel(\"(Type, isFlaggedFraud)\")\n",
        "ax.set_ylabel(\"Contagem de transação\")\n",
        "for p in ax.patches:\n",
        "    ax.annotate(str(format(int(p.get_height()), ',d')), (p.get_x(), p.get_height()*1.01))"
      ],
      "metadata": {
        "colab": {
          "base_uri": "https://localhost:8080/",
          "height": 359
        },
        "id": "CwCbfhB_-cOf",
        "outputId": "5a53cff1-3a42-494f-c70e-3266eecf1c40"
      },
      "execution_count": 13,
      "outputs": [
        {
          "output_type": "display_data",
          "data": {
            "text/plain": [
              "<Figure size 432x288 with 1 Axes>"
            ],
            "image/png": "[encoded data removed]"
          },
          "metadata": {
            "needs_background": "light"
          }
        }
      ]
    },
    {
      "cell_type": "markdown",
      "source": [
        "Parece que a simulação pode sinalizar apenas 16 transações de transferência como fraude. E não conseguiu prever as fraudes de Cash_out. \n",
        "\n"
      ],
      "metadata": {
        "id": "VoBJolhu_rr7"
      }
    },
    {
      "cell_type": "code",
      "source": [
        "(16/6000000) * 100"
      ],
      "metadata": {
        "colab": {
          "base_uri": "https://localhost:8080/"
        },
        "id": "INf3W418AA0p",
        "outputId": "2a415c83-e3ba-491f-ae02-d1354c6656d7"
      },
      "execution_count": 14,
      "outputs": [
        {
          "output_type": "execute_result",
          "data": {
            "text/plain": [
              "0.0002666666666666667"
            ]
          },
          "metadata": {},
          "execution_count": 14
        }
      ]
    },
    {
      "cell_type": "code",
      "source": [
        "fraude = data[(data.isFraud== 1) & (data.isFlaggedFraud== 1)]\n",
        "fraude.head(16)"
      ],
      "metadata": {
        "colab": {
          "base_uri": "https://localhost:8080/",
          "height": 595
        },
        "id": "XGmTSsxLvF0O",
        "outputId": "1bff4451-9992-4383-a982-83a38fbc4bab"
      },
      "execution_count": 15,
      "outputs": [
        {
          "output_type": "execute_result",
          "data": {
            "text/plain": [
              "         step      type         amount     nameOrig  oldbalanceOrg  \\\n",
              "2736446   212  TRANSFER  4953893.08000   C728984460  4953893.08000   \n",
              "3247297   250  TRANSFER  1343002.08000  C1100582606  1343002.08000   \n",
              "3760288   279  TRANSFER   536624.41000  C1035541766   536624.41000   \n",
              "5563713   387  TRANSFER  4892193.09000   C908544136  4892193.09000   \n",
              "5996407   425  TRANSFER 10000000.00000   C689608084 19585040.37000   \n",
              "5996409   425  TRANSFER  9585040.37000   C452586515 19585040.37000   \n",
              "6168499   554  TRANSFER  3576297.10000   C193696150  3576297.10000   \n",
              "6205439   586  TRANSFER   353874.22000  C1684585475   353874.22000   \n",
              "6266413   617  TRANSFER  2542664.27000   C786455622  2542664.27000   \n",
              "6281482   646  TRANSFER 10000000.00000    C19004745 10399045.08000   \n",
              "6281484   646  TRANSFER   399045.08000   C724693370 10399045.08000   \n",
              "6296014   671  TRANSFER  3441041.46000   C917414431  3441041.46000   \n",
              "6351225   702  TRANSFER  3171085.59000  C1892216157  3171085.59000   \n",
              "6362460   730  TRANSFER 10000000.00000  C2140038573 17316255.05000   \n",
              "6362462   730  TRANSFER  7316255.05000  C1869569059 17316255.05000   \n",
              "6362584   741  TRANSFER  5674547.89000   C992223106  5674547.89000   \n",
              "\n",
              "         newbalanceOrig     nameDest  oldbalanceDest  newbalanceDest  isFraud  \\\n",
              "2736446   4953893.08000   C639921569         0.00000         0.00000        1   \n",
              "3247297   1343002.08000  C1147517658         0.00000         0.00000        1   \n",
              "3760288    536624.41000  C1100697970         0.00000         0.00000        1   \n",
              "5563713   4892193.09000   C891140444         0.00000         0.00000        1   \n",
              "5996407  19585040.37000  C1392803603         0.00000         0.00000        1   \n",
              "5996409  19585040.37000  C1109166882         0.00000         0.00000        1   \n",
              "6168499   3576297.10000   C484597480         0.00000         0.00000        1   \n",
              "6205439    353874.22000  C1770418982         0.00000         0.00000        1   \n",
              "6266413   2542664.27000   C661958277         0.00000         0.00000        1   \n",
              "6281482  10399045.08000  C1806199534         0.00000         0.00000        1   \n",
              "6281484  10399045.08000  C1909486199         0.00000         0.00000        1   \n",
              "6296014   3441041.46000  C1082139865         0.00000         0.00000        1   \n",
              "6351225   3171085.59000  C1308068787         0.00000         0.00000        1   \n",
              "6362460  17316255.05000  C1395467927         0.00000         0.00000        1   \n",
              "6362462  17316255.05000  C1861208726         0.00000         0.00000        1   \n",
              "6362584   5674547.89000  C1366804249         0.00000         0.00000        1   \n",
              "\n",
              "         isFlaggedFraud  \n",
              "2736446               1  \n",
              "3247297               1  \n",
              "3760288               1  \n",
              "5563713               1  \n",
              "5996407               1  \n",
              "5996409               1  \n",
              "6168499               1  \n",
              "6205439               1  \n",
              "6266413               1  \n",
              "6281482               1  \n",
              "6281484               1  \n",
              "6296014               1  \n",
              "6351225               1  \n",
              "6362460               1  \n",
              "6362462               1  \n",
              "6362584               1  "
            ],
            "text/html": [
              "\n",
              "  <div id=\"df-5f8f4ada-4907-44cb-831c-5d2f4acc002e\">\n",
              "    <div class=\"colab-df-container\">\n",
              "      <div>\n",
              "<style scoped>\n",
              "    .dataframe tbody tr th:only-of-type {\n",
              "        vertical-align: middle;\n",
              "    }\n",
              "\n",
              "    .dataframe tbody tr th {\n",
              "        vertical-align: top;\n",
              "    }\n",
              "\n",
              "    .dataframe thead th {\n",
              "        text-align: right;\n",
              "    }\n",
              "</style>\n",
              "<table border=\"1\" class=\"dataframe\">\n",
              "  <thead>\n",
              "    <tr style=\"text-align: right;\">\n",
              "      <th></th>\n",
              "      <th>step</th>\n",
              "      <th>type</th>\n",
              "      <th>amount</th>\n",
              "      <th>nameOrig</th>\n",
              "      <th>oldbalanceOrg</th>\n",
              "      <th>newbalanceOrig</th>\n",
              "      <th>nameDest</th>\n",
              "      <th>oldbalanceDest</th>\n",
              "      <th>newbalanceDest</th>\n",
              "      <th>isFraud</th>\n",
              "      <th>isFlaggedFraud</th>\n",
              "    </tr>\n",
              "  </thead>\n",
              "  <tbody>\n",
              "    <tr>\n",
              "      <th>2736446</th>\n",
              "      <td>212</td>\n",
              "      <td>TRANSFER</td>\n",
              "      <td>4953893.08000</td>\n",
              "      <td>C728984460</td>\n",
              "      <td>4953893.08000</td>\n",
              "      <td>4953893.08000</td>\n",
              "      <td>C639921569</td>\n",
              "      <td>0.00000</td>\n",
              "      <td>0.00000</td>\n",
              "      <td>1</td>\n",
              "      <td>1</td>\n",
              "    </tr>\n",
              "    <tr>\n",
              "      <th>3247297</th>\n",
              "      <td>250</td>\n",
              "      <td>TRANSFER</td>\n",
              "      <td>1343002.08000</td>\n",
              "      <td>C1100582606</td>\n",
              "      <td>1343002.08000</td>\n",
              "      <td>1343002.08000</td>\n",
              "      <td>C1147517658</td>\n",
              "      <td>0.00000</td>\n",
              "      <td>0.00000</td>\n",
              "      <td>1</td>\n",
              "      <td>1</td>\n",
              "    </tr>\n",
              "    <tr>\n",
              "      <th>3760288</th>\n",
              "      <td>279</td>\n",
              "      <td>TRANSFER</td>\n",
              "      <td>536624.41000</td>\n",
              "      <td>C1035541766</td>\n",
              "      <td>536624.41000</td>\n",
              "      <td>536624.41000</td>\n",
              "      <td>C1100697970</td>\n",
              "      <td>0.00000</td>\n",
              "      <td>0.00000</td>\n",
              "      <td>1</td>\n",
              "      <td>1</td>\n",
              "    </tr>\n",
              "    <tr>\n",
              "      <th>5563713</th>\n",
              "      <td>387</td>\n",
              "      <td>TRANSFER</td>\n",
              "      <td>4892193.09000</td>\n",
              "      <td>C908544136</td>\n",
              "      <td>4892193.09000</td>\n",
              "      <td>4892193.09000</td>\n",
              "      <td>C891140444</td>\n",
              "      <td>0.00000</td>\n",
              "      <td>0.00000</td>\n",
              "      <td>1</td>\n",
              "      <td>1</td>\n",
              "    </tr>\n",
              "    <tr>\n",
              "      <th>5996407</th>\n",
              "      <td>425</td>\n",
              "      <td>TRANSFER</td>\n",
              "      <td>10000000.00000</td>\n",
              "      <td>C689608084</td>\n",
              "      <td>19585040.37000</td>\n",
              "      <td>19585040.37000</td>\n",
              "      <td>C1392803603</td>\n",
              "      <td>0.00000</td>\n",
              "      <td>0.00000</td>\n",
              "      <td>1</td>\n",
              "      <td>1</td>\n",
              "    </tr>\n",
              "    <tr>\n",
              "      <th>5996409</th>\n",
              "      <td>425</td>\n",
              "      <td>TRANSFER</td>\n",
              "      <td>9585040.37000</td>\n",
              "      <td>C452586515</td>\n",
              "      <td>19585040.37000</td>\n",
              "      <td>19585040.37000</td>\n",
              "      <td>C1109166882</td>\n",
              "      <td>0.00000</td>\n",
              "      <td>0.00000</td>\n",
              "      <td>1</td>\n",
              "      <td>1</td>\n",
              "    </tr>\n",
              "    <tr>\n",
              "      <th>6168499</th>\n",
              "      <td>554</td>\n",
              "      <td>TRANSFER</td>\n",
              "      <td>3576297.10000</td>\n",
              "      <td>C193696150</td>\n",
              "      <td>3576297.10000</td>\n",
              "      <td>3576297.10000</td>\n",
              "      <td>C484597480</td>\n",
              "      <td>0.00000</td>\n",
              "      <td>0.00000</td>\n",
              "      <td>1</td>\n",
              "      <td>1</td>\n",
              "    </tr>\n",
              "    <tr>\n",
              "      <th>6205439</th>\n",
              "      <td>586</td>\n",
              "      <td>TRANSFER</td>\n",
              "      <td>353874.22000</td>\n",
              "      <td>C1684585475</td>\n",
              "      <td>353874.22000</td>\n",
              "      <td>353874.22000</td>\n",
              "      <td>C1770418982</td>\n",
              "      <td>0.00000</td>\n",
              "      <td>0.00000</td>\n",
              "      <td>1</td>\n",
              "      <td>1</td>\n",
              "    </tr>\n",
              "    <tr>\n",
              "      <th>6266413</th>\n",
              "      <td>617</td>\n",
              "      <td>TRANSFER</td>\n",
              "      <td>2542664.27000</td>\n",
              "      <td>C786455622</td>\n",
              "      <td>2542664.27000</td>\n",
              "      <td>2542664.27000</td>\n",
              "      <td>C661958277</td>\n",
              "      <td>0.00000</td>\n",
              "      <td>0.00000</td>\n",
              "      <td>1</td>\n",
              "      <td>1</td>\n",
              "    </tr>\n",
              "    <tr>\n",
              "      <th>6281482</th>\n",
              "      <td>646</td>\n",
              "      <td>TRANSFER</td>\n",
              "      <td>10000000.00000</td>\n",
              "      <td>C19004745</td>\n",
              "      <td>10399045.08000</td>\n",
              "      <td>10399045.08000</td>\n",
              "      <td>C1806199534</td>\n",
              "      <td>0.00000</td>\n",
              "      <td>0.00000</td>\n",
              "      <td>1</td>\n",
              "      <td>1</td>\n",
              "    </tr>\n",
              "    <tr>\n",
              "      <th>6281484</th>\n",
              "      <td>646</td>\n",
              "      <td>TRANSFER</td>\n",
              "      <td>399045.08000</td>\n",
              "      <td>C724693370</td>\n",
              "      <td>10399045.08000</td>\n",
              "      <td>10399045.08000</td>\n",
              "      <td>C1909486199</td>\n",
              "      <td>0.00000</td>\n",
              "      <td>0.00000</td>\n",
              "      <td>1</td>\n",
              "      <td>1</td>\n",
              "    </tr>\n",
              "    <tr>\n",
              "      <th>6296014</th>\n",
              "      <td>671</td>\n",
              "      <td>TRANSFER</td>\n",
              "      <td>3441041.46000</td>\n",
              "      <td>C917414431</td>\n",
              "      <td>3441041.46000</td>\n",
              "      <td>3441041.46000</td>\n",
              "      <td>C1082139865</td>\n",
              "      <td>0.00000</td>\n",
              "      <td>0.00000</td>\n",
              "      <td>1</td>\n",
              "      <td>1</td>\n",
              "    </tr>\n",
              "    <tr>\n",
              "      <th>6351225</th>\n",
              "      <td>702</td>\n",
              "      <td>TRANSFER</td>\n",
              "      <td>3171085.59000</td>\n",
              "      <td>C1892216157</td>\n",
              "      <td>3171085.59000</td>\n",
              "      <td>3171085.59000</td>\n",
              "      <td>C1308068787</td>\n",
              "      <td>0.00000</td>\n",
              "      <td>0.00000</td>\n",
              "      <td>1</td>\n",
              "      <td>1</td>\n",
              "    </tr>\n",
              "    <tr>\n",
              "      <th>6362460</th>\n",
              "      <td>730</td>\n",
              "      <td>TRANSFER</td>\n",
              "      <td>10000000.00000</td>\n",
              "      <td>C2140038573</td>\n",
              "      <td>17316255.05000</td>\n",
              "      <td>17316255.05000</td>\n",
              "      <td>C1395467927</td>\n",
              "      <td>0.00000</td>\n",
              "      <td>0.00000</td>\n",
              "      <td>1</td>\n",
              "      <td>1</td>\n",
              "    </tr>\n",
              "    <tr>\n",
              "      <th>6362462</th>\n",
              "      <td>730</td>\n",
              "      <td>TRANSFER</td>\n",
              "      <td>7316255.05000</td>\n",
              "      <td>C1869569059</td>\n",
              "      <td>17316255.05000</td>\n",
              "      <td>17316255.05000</td>\n",
              "      <td>C1861208726</td>\n",
              "      <td>0.00000</td>\n",
              "      <td>0.00000</td>\n",
              "      <td>1</td>\n",
              "      <td>1</td>\n",
              "    </tr>\n",
              "    <tr>\n",
              "      <th>6362584</th>\n",
              "      <td>741</td>\n",
              "      <td>TRANSFER</td>\n",
              "      <td>5674547.89000</td>\n",
              "      <td>C992223106</td>\n",
              "      <td>5674547.89000</td>\n",
              "      <td>5674547.89000</td>\n",
              "      <td>C1366804249</td>\n",
              "      <td>0.00000</td>\n",
              "      <td>0.00000</td>\n",
              "      <td>1</td>\n",
              "      <td>1</td>\n",
              "    </tr>\n",
              "  </tbody>\n",
              "</table>\n",
              "</div>\n",
              "      <button class=\"colab-df-convert\" onclick=\"convertToInteractive('df-5f8f4ada-4907-44cb-831c-5d2f4acc002e')\"\n",
              "              title=\"Convert this dataframe to an interactive table.\"\n",
              "              style=\"display:none;\">\n",
              "        \n",
              "  <svg xmlns=\"http://www.w3.org/2000/svg\" height=\"24px\"viewBox=\"0 0 24 24\"\n",
              "       width=\"24px\">\n",
              "    <path d=\"M0 0h24v24H0V0z\" fill=\"none\"/>\n",
              "    <path d=\"M18.56 5.44l.94 2.06.94-2.06 2.06-.94-2.06-.94-.94-2.06-.94 2.06-2.06.94zm-11 1L8.5 8.5l.94-2.06 2.06-.94-2.06-.94L8.5 2.5l-.94 2.06-2.06.94zm10 10l.94 2.06.94-2.06 2.06-.94-2.06-.94-.94-2.06-.94 2.06-2.06.94z\"/><path d=\"M17.41 7.96l-1.37-1.37c-.4-.4-.92-.59-1.43-.59-.52 0-1.04.2-1.43.59L10.3 9.45l-7.72 7.72c-.78.78-.78 2.05 0 2.83L4 21.41c.39.39.9.59 1.41.59.51 0 1.02-.2 1.41-.59l7.78-7.78 2.81-2.81c.8-.78.8-2.07 0-2.86zM5.41 20L4 18.59l7.72-7.72 1.47 1.35L5.41 20z\"/>\n",
              "  </svg>\n",
              "      </button>\n",
              "      \n",
              "  <style>\n",
              "    .colab-df-container {\n",
              "      display:flex;\n",
              "      flex-wrap:wrap;\n",
              "      gap: 12px;\n",
              "    }\n",
              "\n",
              "    .colab-df-convert {\n",
              "      background-color: #E8F0FE;\n",
              "      border: none;\n",
              "      border-radius: 50%;\n",
              "      cursor: pointer;\n",
              "      display: none;\n",
              "      fill: #1967D2;\n",
              "      height: 32px;\n",
              "      padding: 0 0 0 0;\n",
              "      width: 32px;\n",
              "    }\n",
              "\n",
              "    .colab-df-convert:hover {\n",
              "      background-color: #E2EBFA;\n",
              "      box-shadow: 0px 1px 2px rgba(60, 64, 67, 0.3), 0px 1px 3px 1px rgba(60, 64, 67, 0.15);\n",
              "      fill: #174EA6;\n",
              "    }\n",
              "\n",
              "    [theme=dark] .colab-df-convert {\n",
              "      background-color: #3B4455;\n",
              "      fill: #D2E3FC;\n",
              "    }\n",
              "\n",
              "    [theme=dark] .colab-df-convert:hover {\n",
              "      background-color: #434B5C;\n",
              "      box-shadow: 0px 1px 3px 1px rgba(0, 0, 0, 0.15);\n",
              "      filter: drop-shadow(0px 1px 2px rgba(0, 0, 0, 0.3));\n",
              "      fill: #FFFFFF;\n",
              "    }\n",
              "  </style>\n",
              "\n",
              "      <script>\n",
              "        const buttonEl =\n",
              "          document.querySelector('#df-5f8f4ada-4907-44cb-831c-5d2f4acc002e button.colab-df-convert');\n",
              "        buttonEl.style.display =\n",
              "          google.colab.kernel.accessAllowed ? 'block' : 'none';\n",
              "\n",
              "        async function convertToInteractive(key) {\n",
              "          const element = document.querySelector('#df-5f8f4ada-4907-44cb-831c-5d2f4acc002e');\n",
              "          const dataTable =\n",
              "            await google.colab.kernel.invokeFunction('convertToInteractive',\n",
              "                                                     [key], {});\n",
              "          if (!dataTable) return;\n",
              "\n",
              "          const docLinkHtml = 'Like what you see? Visit the ' +\n",
              "            '<a target=\"_blank\" href=https://colab.research.google.com/notebooks/data_table.ipynb>data table notebook</a>'\n",
              "            + ' to learn more about interactive tables.';\n",
              "          element.innerHTML = '';\n",
              "          dataTable['output_type'] = 'display_data';\n",
              "          await google.colab.output.renderOutput(dataTable, element);\n",
              "          const docLink = document.createElement('div');\n",
              "          docLink.innerHTML = docLinkHtml;\n",
              "          element.appendChild(docLink);\n",
              "        }\n",
              "      </script>\n",
              "    </div>\n",
              "  </div>\n",
              "  "
            ]
          },
          "metadata": {},
          "execution_count": 15
        }
      ]
    },
    {
      "cell_type": "markdown",
      "source": [
        "Considerando que a variável isFlaggedFraud representa apenas 0,00026% do dataset e que todas as 16 previsões de fraude também foram sinalizadas na variável isFraud. Podemos tratar esse recurso como insignificante e descartá-lo no conjunto de dados sem perder informações."
      ],
      "metadata": {
        "id": "4zV_9RX6w-2X"
      }
    },
    {
      "cell_type": "markdown",
      "metadata": {
        "id": "yp_k6WoZ-Vry"
      },
      "source": [
        "### Limpeza Dos Dados"
      ]
    },
    {
      "cell_type": "code",
      "source": [
        "dataLimpo = data.loc[(data.type == 'TRANSFER') | (data.type == 'CASH_OUT')] # Apenas foi constatado fraude nos tipos Transfer e Cash_out \n",
        "randomState = 5\n",
        "np.random.seed(randomState)\n",
        "dataLimpo = dataLimpo.drop(['nameOrig', 'nameDest', 'isFlaggedFraud'], axis = 1) #Eliminação de variáveis dispensáveis do dataset"
      ],
      "metadata": {
        "id": "Mx0L4Zi92m8W"
      },
      "execution_count": 16,
      "outputs": []
    },
    {
      "cell_type": "markdown",
      "source": [
        "#Feature Engineering"
      ],
      "metadata": {
        "id": "m4gLkg8y3BZV"
      }
    },
    {
      "cell_type": "code",
      "metadata": {
        "colab": {
          "base_uri": "https://localhost:8080/"
        },
        "id": "r8d3sZzZ-Vry",
        "scrolled": true,
        "outputId": "9ed6c76a-1eb9-4d0c-d9db-54de76fd6a18"
      },
      "source": [
        "%%time \n",
        "def transfer_category(x): #Categorizando os valores de transferência\n",
        "    if x >= 75000:\n",
        "        return('HIGH')\n",
        "    elif x < 75000 and x >= 14000:\n",
        "        return('MODERATE')\n",
        "    elif x < 14000:\n",
        "        return('LOW')\n",
        "    else:\n",
        "        return(\"EXTREMLY LOW\")\n",
        "dataLimpo['transfer_amount_category'] = dataLimpo.amount.apply(transfer_category)    \n",
        "data.head(2)"
      ],
      "execution_count": 17,
      "outputs": [
        {
          "output_type": "stream",
          "name": "stdout",
          "text": [
            "CPU times: user 687 ms, sys: 80.5 ms, total: 767 ms\n",
            "Wall time: 765 ms\n"
          ]
        }
      ]
    },
    {
      "cell_type": "code",
      "metadata": {
        "colab": {
          "base_uri": "https://localhost:8080/"
        },
        "id": "qyjldodW-Vrz",
        "outputId": "3f7742fd-e6f5-4a45-d3ea-d514cea37a03"
      },
      "source": [
        "%%time\n",
        "label_encoder = LabelEncoder()  #Transformando textos em números\n",
        "dataLimpo['type_encode'] = label_encoder.fit_transform(dataLimpo['type']) \n",
        "dataLimpo['transfer_amount_category_encode'] = label_encoder.fit_transform(dataLimpo['transfer_amount_category']) "
      ],
      "execution_count": 18,
      "outputs": [
        {
          "output_type": "stream",
          "name": "stdout",
          "text": [
            "CPU times: user 1.33 s, sys: 15.1 ms, total: 1.34 s\n",
            "Wall time: 1.35 s\n"
          ]
        }
      ]
    },
    {
      "cell_type": "code",
      "source": [
        "dataLimpo.type_encode = dataLimpo.type_encode.astype(int)\n"
      ],
      "metadata": {
        "id": "OhrSk1_J7g0V"
      },
      "execution_count": 19,
      "outputs": []
    },
    {
      "cell_type": "code",
      "source": [
        "Y = dataLimpo['isFraud'] #Série com os valore binários 0 ou 1 para identificação de fraude\n",
        "del dataLimpo['isFraud']"
      ],
      "metadata": {
        "id": "EL2CF2Ns-Ejd"
      },
      "execution_count": 20,
      "outputs": []
    },
    {
      "cell_type": "code",
      "metadata": {
        "id": "9u0tH5UB7VB9",
        "outputId": "a8da7e03-bbc1-4414-8fcc-4aa529a68509",
        "colab": {
          "base_uri": "https://localhost:8080/",
          "height": 211
        }
      },
      "source": [
        "%%time\n",
        "dataLimpo.head(2)"
      ],
      "execution_count": 21,
      "outputs": [
        {
          "output_type": "stream",
          "name": "stdout",
          "text": [
            "CPU times: user 228 µs, sys: 19 µs, total: 247 µs\n",
            "Wall time: 256 µs\n"
          ]
        },
        {
          "output_type": "execute_result",
          "data": {
            "text/plain": [
              "   step      type    amount  oldbalanceOrg  newbalanceOrig  oldbalanceDest  \\\n",
              "2     1  TRANSFER 181.00000      181.00000         0.00000         0.00000   \n",
              "3     1  CASH_OUT 181.00000      181.00000         0.00000     21182.00000   \n",
              "\n",
              "   newbalanceDest transfer_amount_category  type_encode  \\\n",
              "2         0.00000                      LOW            1   \n",
              "3         0.00000                      LOW            0   \n",
              "\n",
              "   transfer_amount_category_encode  \n",
              "2                                1  \n",
              "3                                1  "
            ],
            "text/html": [
              "\n",
              "  <div id=\"df-c07065f3-d942-4e9b-ae8c-2687b3c29ee5\">\n",
              "    <div class=\"colab-df-container\">\n",
              "      <div>\n",
              "<style scoped>\n",
              "    .dataframe tbody tr th:only-of-type {\n",
              "        vertical-align: middle;\n",
              "    }\n",
              "\n",
              "    .dataframe tbody tr th {\n",
              "        vertical-align: top;\n",
              "    }\n",
              "\n",
              "    .dataframe thead th {\n",
              "        text-align: right;\n",
              "    }\n",
              "</style>\n",
              "<table border=\"1\" class=\"dataframe\">\n",
              "  <thead>\n",
              "    <tr style=\"text-align: right;\">\n",
              "      <th></th>\n",
              "      <th>step</th>\n",
              "      <th>type</th>\n",
              "      <th>amount</th>\n",
              "      <th>oldbalanceOrg</th>\n",
              "      <th>newbalanceOrig</th>\n",
              "      <th>oldbalanceDest</th>\n",
              "      <th>newbalanceDest</th>\n",
              "      <th>transfer_amount_category</th>\n",
              "      <th>type_encode</th>\n",
              "      <th>transfer_amount_category_encode</th>\n",
              "    </tr>\n",
              "  </thead>\n",
              "  <tbody>\n",
              "    <tr>\n",
              "      <th>2</th>\n",
              "      <td>1</td>\n",
              "      <td>TRANSFER</td>\n",
              "      <td>181.00000</td>\n",
              "      <td>181.00000</td>\n",
              "      <td>0.00000</td>\n",
              "      <td>0.00000</td>\n",
              "      <td>0.00000</td>\n",
              "      <td>LOW</td>\n",
              "      <td>1</td>\n",
              "      <td>1</td>\n",
              "    </tr>\n",
              "    <tr>\n",
              "      <th>3</th>\n",
              "      <td>1</td>\n",
              "      <td>CASH_OUT</td>\n",
              "      <td>181.00000</td>\n",
              "      <td>181.00000</td>\n",
              "      <td>0.00000</td>\n",
              "      <td>21182.00000</td>\n",
              "      <td>0.00000</td>\n",
              "      <td>LOW</td>\n",
              "      <td>0</td>\n",
              "      <td>1</td>\n",
              "    </tr>\n",
              "  </tbody>\n",
              "</table>\n",
              "</div>\n",
              "      <button class=\"colab-df-convert\" onclick=\"convertToInteractive('df-c07065f3-d942-4e9b-ae8c-2687b3c29ee5')\"\n",
              "              title=\"Convert this dataframe to an interactive table.\"\n",
              "              style=\"display:none;\">\n",
              "        \n",
              "  <svg xmlns=\"http://www.w3.org/2000/svg\" height=\"24px\"viewBox=\"0 0 24 24\"\n",
              "       width=\"24px\">\n",
              "    <path d=\"M0 0h24v24H0V0z\" fill=\"none\"/>\n",
              "    <path d=\"M18.56 5.44l.94 2.06.94-2.06 2.06-.94-2.06-.94-.94-2.06-.94 2.06-2.06.94zm-11 1L8.5 8.5l.94-2.06 2.06-.94-2.06-.94L8.5 2.5l-.94 2.06-2.06.94zm10 10l.94 2.06.94-2.06 2.06-.94-2.06-.94-.94-2.06-.94 2.06-2.06.94z\"/><path d=\"M17.41 7.96l-1.37-1.37c-.4-.4-.92-.59-1.43-.59-.52 0-1.04.2-1.43.59L10.3 9.45l-7.72 7.72c-.78.78-.78 2.05 0 2.83L4 21.41c.39.39.9.59 1.41.59.51 0 1.02-.2 1.41-.59l7.78-7.78 2.81-2.81c.8-.78.8-2.07 0-2.86zM5.41 20L4 18.59l7.72-7.72 1.47 1.35L5.41 20z\"/>\n",
              "  </svg>\n",
              "      </button>\n",
              "      \n",
              "  <style>\n",
              "    .colab-df-container {\n",
              "      display:flex;\n",
              "      flex-wrap:wrap;\n",
              "      gap: 12px;\n",
              "    }\n",
              "\n",
              "    .colab-df-convert {\n",
              "      background-color: #E8F0FE;\n",
              "      border: none;\n",
              "      border-radius: 50%;\n",
              "      cursor: pointer;\n",
              "      display: none;\n",
              "      fill: #1967D2;\n",
              "      height: 32px;\n",
              "      padding: 0 0 0 0;\n",
              "      width: 32px;\n",
              "    }\n",
              "\n",
              "    .colab-df-convert:hover {\n",
              "      background-color: #E2EBFA;\n",
              "      box-shadow: 0px 1px 2px rgba(60, 64, 67, 0.3), 0px 1px 3px 1px rgba(60, 64, 67, 0.15);\n",
              "      fill: #174EA6;\n",
              "    }\n",
              "\n",
              "    [theme=dark] .colab-df-convert {\n",
              "      background-color: #3B4455;\n",
              "      fill: #D2E3FC;\n",
              "    }\n",
              "\n",
              "    [theme=dark] .colab-df-convert:hover {\n",
              "      background-color: #434B5C;\n",
              "      box-shadow: 0px 1px 3px 1px rgba(0, 0, 0, 0.15);\n",
              "      filter: drop-shadow(0px 1px 2px rgba(0, 0, 0, 0.3));\n",
              "      fill: #FFFFFF;\n",
              "    }\n",
              "  </style>\n",
              "\n",
              "      <script>\n",
              "        const buttonEl =\n",
              "          document.querySelector('#df-c07065f3-d942-4e9b-ae8c-2687b3c29ee5 button.colab-df-convert');\n",
              "        buttonEl.style.display =\n",
              "          google.colab.kernel.accessAllowed ? 'block' : 'none';\n",
              "\n",
              "        async function convertToInteractive(key) {\n",
              "          const element = document.querySelector('#df-c07065f3-d942-4e9b-ae8c-2687b3c29ee5');\n",
              "          const dataTable =\n",
              "            await google.colab.kernel.invokeFunction('convertToInteractive',\n",
              "                                                     [key], {});\n",
              "          if (!dataTable) return;\n",
              "\n",
              "          const docLinkHtml = 'Like what you see? Visit the ' +\n",
              "            '<a target=\"_blank\" href=https://colab.research.google.com/notebooks/data_table.ipynb>data table notebook</a>'\n",
              "            + ' to learn more about interactive tables.';\n",
              "          element.innerHTML = '';\n",
              "          dataTable['output_type'] = 'display_data';\n",
              "          await google.colab.output.renderOutput(dataTable, element);\n",
              "          const docLink = document.createElement('div');\n",
              "          docLink.innerHTML = docLinkHtml;\n",
              "          element.appendChild(docLink);\n",
              "        }\n",
              "      </script>\n",
              "    </div>\n",
              "  </div>\n",
              "  "
            ]
          },
          "metadata": {},
          "execution_count": 21
        }
      ]
    },
    {
      "cell_type": "code",
      "source": [
        "Y"
      ],
      "metadata": {
        "colab": {
          "base_uri": "https://localhost:8080/"
        },
        "id": "Y2OlORpdFb_q",
        "outputId": "bd914c97-86b0-4f51-b37d-ed3a56501061"
      },
      "execution_count": 22,
      "outputs": [
        {
          "output_type": "execute_result",
          "data": {
            "text/plain": [
              "2          1\n",
              "3          1\n",
              "15         0\n",
              "19         0\n",
              "24         0\n",
              "          ..\n",
              "6362615    1\n",
              "6362616    1\n",
              "6362617    1\n",
              "6362618    1\n",
              "6362619    1\n",
              "Name: isFraud, Length: 2770409, dtype: int64"
            ]
          },
          "metadata": {},
          "execution_count": 22
        }
      ]
    },
    {
      "cell_type": "code",
      "source": [
        "dataLimpo.info()"
      ],
      "metadata": {
        "colab": {
          "base_uri": "https://localhost:8080/"
        },
        "id": "Fzeny1gm8qF9",
        "outputId": "024bbc9a-bbdd-4862-c532-4af86bed1a7e"
      },
      "execution_count": 23,
      "outputs": [
        {
          "output_type": "stream",
          "name": "stdout",
          "text": [
            "<class 'pandas.core.frame.DataFrame'>\n",
            "Int64Index: 2770409 entries, 2 to 6362619\n",
            "Data columns (total 10 columns):\n",
            " #   Column                           Dtype  \n",
            "---  ------                           -----  \n",
            " 0   step                             int64  \n",
            " 1   type                             object \n",
            " 2   amount                           float64\n",
            " 3   oldbalanceOrg                    float64\n",
            " 4   newbalanceOrig                   float64\n",
            " 5   oldbalanceDest                   float64\n",
            " 6   newbalanceDest                   float64\n",
            " 7   transfer_amount_category         object \n",
            " 8   type_encode                      int64  \n",
            " 9   transfer_amount_category_encode  int64  \n",
            "dtypes: float64(5), int64(3), object(2)\n",
            "memory usage: 232.5+ MB\n"
          ]
        }
      ]
    },
    {
      "cell_type": "code",
      "metadata": {
        "colab": {
          "base_uri": "https://localhost:8080/"
        },
        "id": "K2_lFCmz-Vrz",
        "outputId": "97d05d38-1839-4111-f735-018d3d9d311b"
      },
      "source": [
        "%%time\n",
        "normalizer = Normalizer()\n",
        "amount_scale = normalizer.fit_transform(dataLimpo.amount.values.reshape(1,-1))\n",
        "dataLimpo['amount_norm'] = amount_scale.reshape(-1,1)\n",
        "amount_oldbalanceOrg = normalizer.fit_transform(dataLimpo.oldbalanceOrg.values.reshape(1,-1))\n",
        "dataLimpo['oldbalanceOrg_norm'] = amount_oldbalanceOrg.reshape(-1,1)\n",
        "amount_newbalanceOrig = normalizer.fit_transform(dataLimpo.newbalanceOrig.values.reshape(1,-1))\n",
        "dataLimpo['newbalanceOrig_norm'] = amount_newbalanceOrig.reshape(-1,1)\n",
        "amount_oldbalanceDest= normalizer.fit_transform(dataLimpo.oldbalanceDest.values.reshape(1,-1))\n",
        "dataLimpo['oldbalanceDest_norm'] = amount_oldbalanceDest.reshape(-1,1)\n",
        "amount_newbalanceDest = normalizer.fit_transform(dataLimpo.newbalanceDest.values.reshape(1,-1))\n",
        "dataLimpo['newbalanceDest_norm'] = amount_newbalanceDest.reshape(-1,1)"
      ],
      "execution_count": 24,
      "outputs": [
        {
          "output_type": "stream",
          "name": "stdout",
          "text": [
            "CPU times: user 196 ms, sys: 0 ns, total: 196 ms\n",
            "Wall time: 200 ms\n"
          ]
        }
      ]
    },
    {
      "cell_type": "code",
      "metadata": {
        "id": "2ckjSdEl7VB-",
        "outputId": "c177fa22-d25f-4ad2-e9e3-6a4f9c04c2bd",
        "colab": {
          "base_uri": "https://localhost:8080/",
          "height": 211
        }
      },
      "source": [
        "%%time\n",
        "dataLimpo.head(2)"
      ],
      "execution_count": 25,
      "outputs": [
        {
          "output_type": "stream",
          "name": "stdout",
          "text": [
            "CPU times: user 188 µs, sys: 16 µs, total: 204 µs\n",
            "Wall time: 209 µs\n"
          ]
        },
        {
          "output_type": "execute_result",
          "data": {
            "text/plain": [
              "   step      type    amount  oldbalanceOrg  newbalanceOrig  oldbalanceDest  \\\n",
              "2     1  TRANSFER 181.00000      181.00000         0.00000         0.00000   \n",
              "3     1  CASH_OUT 181.00000      181.00000         0.00000     21182.00000   \n",
              "\n",
              "   newbalanceDest transfer_amount_category  type_encode  \\\n",
              "2         0.00000                      LOW            1   \n",
              "3         0.00000                      LOW            0   \n",
              "\n",
              "   transfer_amount_category_encode  amount_norm  oldbalanceOrg_norm  \\\n",
              "2                                1      0.00000             0.00000   \n",
              "3                                1      0.00000             0.00000   \n",
              "\n",
              "   newbalanceOrig_norm  oldbalanceDest_norm  newbalanceDest_norm  \n",
              "2              0.00000              0.00000              0.00000  \n",
              "3              0.00000              0.00000              0.00000  "
            ],
            "text/html": [
              "\n",
              "  <div id=\"df-2a01e20c-8ec0-4ebc-829a-e3c3ba44fda3\">\n",
              "    <div class=\"colab-df-container\">\n",
              "      <div>\n",
              "<style scoped>\n",
              "    .dataframe tbody tr th:only-of-type {\n",
              "        vertical-align: middle;\n",
              "    }\n",
              "\n",
              "    .dataframe tbody tr th {\n",
              "        vertical-align: top;\n",
              "    }\n",
              "\n",
              "    .dataframe thead th {\n",
              "        text-align: right;\n",
              "    }\n",
              "</style>\n",
              "<table border=\"1\" class=\"dataframe\">\n",
              "  <thead>\n",
              "    <tr style=\"text-align: right;\">\n",
              "      <th></th>\n",
              "      <th>step</th>\n",
              "      <th>type</th>\n",
              "      <th>amount</th>\n",
              "      <th>oldbalanceOrg</th>\n",
              "      <th>newbalanceOrig</th>\n",
              "      <th>oldbalanceDest</th>\n",
              "      <th>newbalanceDest</th>\n",
              "      <th>transfer_amount_category</th>\n",
              "      <th>type_encode</th>\n",
              "      <th>transfer_amount_category_encode</th>\n",
              "      <th>amount_norm</th>\n",
              "      <th>oldbalanceOrg_norm</th>\n",
              "      <th>newbalanceOrig_norm</th>\n",
              "      <th>oldbalanceDest_norm</th>\n",
              "      <th>newbalanceDest_norm</th>\n",
              "    </tr>\n",
              "  </thead>\n",
              "  <tbody>\n",
              "    <tr>\n",
              "      <th>2</th>\n",
              "      <td>1</td>\n",
              "      <td>TRANSFER</td>\n",
              "      <td>181.00000</td>\n",
              "      <td>181.00000</td>\n",
              "      <td>0.00000</td>\n",
              "      <td>0.00000</td>\n",
              "      <td>0.00000</td>\n",
              "      <td>LOW</td>\n",
              "      <td>1</td>\n",
              "      <td>1</td>\n",
              "      <td>0.00000</td>\n",
              "      <td>0.00000</td>\n",
              "      <td>0.00000</td>\n",
              "      <td>0.00000</td>\n",
              "      <td>0.00000</td>\n",
              "    </tr>\n",
              "    <tr>\n",
              "      <th>3</th>\n",
              "      <td>1</td>\n",
              "      <td>CASH_OUT</td>\n",
              "      <td>181.00000</td>\n",
              "      <td>181.00000</td>\n",
              "      <td>0.00000</td>\n",
              "      <td>21182.00000</td>\n",
              "      <td>0.00000</td>\n",
              "      <td>LOW</td>\n",
              "      <td>0</td>\n",
              "      <td>1</td>\n",
              "      <td>0.00000</td>\n",
              "      <td>0.00000</td>\n",
              "      <td>0.00000</td>\n",
              "      <td>0.00000</td>\n",
              "      <td>0.00000</td>\n",
              "    </tr>\n",
              "  </tbody>\n",
              "</table>\n",
              "</div>\n",
              "      <button class=\"colab-df-convert\" onclick=\"convertToInteractive('df-2a01e20c-8ec0-4ebc-829a-e3c3ba44fda3')\"\n",
              "              title=\"Convert this dataframe to an interactive table.\"\n",
              "              style=\"display:none;\">\n",
              "        \n",
              "  <svg xmlns=\"http://www.w3.org/2000/svg\" height=\"24px\"viewBox=\"0 0 24 24\"\n",
              "       width=\"24px\">\n",
              "    <path d=\"M0 0h24v24H0V0z\" fill=\"none\"/>\n",
              "    <path d=\"M18.56 5.44l.94 2.06.94-2.06 2.06-.94-2.06-.94-.94-2.06-.94 2.06-2.06.94zm-11 1L8.5 8.5l.94-2.06 2.06-.94-2.06-.94L8.5 2.5l-.94 2.06-2.06.94zm10 10l.94 2.06.94-2.06 2.06-.94-2.06-.94-.94-2.06-.94 2.06-2.06.94z\"/><path d=\"M17.41 7.96l-1.37-1.37c-.4-.4-.92-.59-1.43-.59-.52 0-1.04.2-1.43.59L10.3 9.45l-7.72 7.72c-.78.78-.78 2.05 0 2.83L4 21.41c.39.39.9.59 1.41.59.51 0 1.02-.2 1.41-.59l7.78-7.78 2.81-2.81c.8-.78.8-2.07 0-2.86zM5.41 20L4 18.59l7.72-7.72 1.47 1.35L5.41 20z\"/>\n",
              "  </svg>\n",
              "      </button>\n",
              "      \n",
              "  <style>\n",
              "    .colab-df-container {\n",
              "      display:flex;\n",
              "      flex-wrap:wrap;\n",
              "      gap: 12px;\n",
              "    }\n",
              "\n",
              "    .colab-df-convert {\n",
              "      background-color: #E8F0FE;\n",
              "      border: none;\n",
              "      border-radius: 50%;\n",
              "      cursor: pointer;\n",
              "      display: none;\n",
              "      fill: #1967D2;\n",
              "      height: 32px;\n",
              "      padding: 0 0 0 0;\n",
              "      width: 32px;\n",
              "    }\n",
              "\n",
              "    .colab-df-convert:hover {\n",
              "      background-color: #E2EBFA;\n",
              "      box-shadow: 0px 1px 2px rgba(60, 64, 67, 0.3), 0px 1px 3px 1px rgba(60, 64, 67, 0.15);\n",
              "      fill: #174EA6;\n",
              "    }\n",
              "\n",
              "    [theme=dark] .colab-df-convert {\n",
              "      background-color: #3B4455;\n",
              "      fill: #D2E3FC;\n",
              "    }\n",
              "\n",
              "    [theme=dark] .colab-df-convert:hover {\n",
              "      background-color: #434B5C;\n",
              "      box-shadow: 0px 1px 3px 1px rgba(0, 0, 0, 0.15);\n",
              "      filter: drop-shadow(0px 1px 2px rgba(0, 0, 0, 0.3));\n",
              "      fill: #FFFFFF;\n",
              "    }\n",
              "  </style>\n",
              "\n",
              "      <script>\n",
              "        const buttonEl =\n",
              "          document.querySelector('#df-2a01e20c-8ec0-4ebc-829a-e3c3ba44fda3 button.colab-df-convert');\n",
              "        buttonEl.style.display =\n",
              "          google.colab.kernel.accessAllowed ? 'block' : 'none';\n",
              "\n",
              "        async function convertToInteractive(key) {\n",
              "          const element = document.querySelector('#df-2a01e20c-8ec0-4ebc-829a-e3c3ba44fda3');\n",
              "          const dataTable =\n",
              "            await google.colab.kernel.invokeFunction('convertToInteractive',\n",
              "                                                     [key], {});\n",
              "          if (!dataTable) return;\n",
              "\n",
              "          const docLinkHtml = 'Like what you see? Visit the ' +\n",
              "            '<a target=\"_blank\" href=https://colab.research.google.com/notebooks/data_table.ipynb>data table notebook</a>'\n",
              "            + ' to learn more about interactive tables.';\n",
              "          element.innerHTML = '';\n",
              "          dataTable['output_type'] = 'display_data';\n",
              "          await google.colab.output.renderOutput(dataTable, element);\n",
              "          const docLink = document.createElement('div');\n",
              "          docLink.innerHTML = docLinkHtml;\n",
              "          element.appendChild(docLink);\n",
              "        }\n",
              "      </script>\n",
              "    </div>\n",
              "  </div>\n",
              "  "
            ]
          },
          "metadata": {},
          "execution_count": 25
        }
      ]
    },
    {
      "cell_type": "markdown",
      "metadata": {
        "id": "LCblGyqi-Vr0"
      },
      "source": [
        "## Modelagem\n",
        "\n",
        "Na etapa de modelagem vamos construir alguns modelos para executar a tarefa de classificação das transações que são fraude e transações que não são fraude."
      ]
    },
    {
      "cell_type": "markdown",
      "metadata": {
        "id": "bKauCHLH7VB-"
      },
      "source": [
        "### Split - Treino/Teste"
      ]
    },
    {
      "cell_type": "code",
      "metadata": {
        "id": "W4giiQ8O-Vr0",
        "colab": {
          "base_uri": "https://localhost:8080/"
        },
        "outputId": "f12225a4-803d-491c-a611-37202a29f7b8"
      },
      "source": [
        "%%time\n",
        "X = dataLimpo[['type_encode', 'transfer_amount_category_encode','amount_norm',\n",
        "          'oldbalanceOrg_norm','newbalanceOrig_norm',\n",
        "          'oldbalanceDest_norm','newbalanceDest_norm']]\n",
        "y = Y\n",
        "X_train, X_test, y_train, y_test = cpu_train_test_split(X, y,\n",
        "                                                    test_size = 0.33, \n",
        "                                                    stratify=y,\n",
        "                                                    random_state = 42)\n",
        "\n",
        "X_train = X_train.astype(np.float32)\n",
        "X_test = X_test.astype(np.float32)\n",
        "dadosTreino = pd.concat([X_train, y_train], axis = 1)\n",
        "dadosTeste = pd.concat([X_test, y_test], axis = 1)"
      ],
      "execution_count": 39,
      "outputs": [
        {
          "output_type": "stream",
          "name": "stdout",
          "text": [
            "CPU times: user 1.84 s, sys: 572 ms, total: 2.41 s\n",
            "Wall time: 2.42 s\n"
          ]
        }
      ]
    },
    {
      "cell_type": "markdown",
      "source": [
        "# Modelagem, Tunning, Treino e Métrica - Árvore de Decisão"
      ],
      "metadata": {
        "id": "Q9bPpMnm6hCD"
      }
    },
    {
      "cell_type": "code",
      "source": [
        "%%time\n",
        "# Parametrização DecisionTree\n",
        "parametros = {  'criterion': ['gini', 'entropy'],\n",
        "                    'max_depth' :[2, 3, 4, 5, 6, 7, 8, 9, 10, 12],\n",
        "                    'min_samples_split': [10, 20, 30, 40, 50], \n",
        "                    }\n",
        "\n",
        "modelo = DecisionTreeClassifier()\n",
        "\n",
        "# Tunning dos parâmetros\n",
        "arvore = RandomizedSearchCV(modelo, \n",
        "                            param_distributions = parametros,\n",
        "                            scoring = 'f1', \n",
        "                            cv = validacao,\n",
        "                            n_iter = 2, \n",
        "                            n_jobs = -1)\n",
        "\n",
        "# Treino e Metrificação\n",
        "arvore.fit(X_train, y_train)\n",
        "predicoes = arvore.predict(X_test)\n",
        "y_arvore_proba = arvore.predict_proba(X_test) #Função probabilidade\n",
        "acc = accuracy_score(y_test,predicoes)\n",
        "sen = recall_score(y_test,predicoes)\n",
        "pre = precision_score(y_test,predicoes)\n",
        "f1s = f1_score(y_test,predicoes)\n",
        "auc = roc_auc_score(y_test,y_arvore_proba[:, 1])\n",
        "\n",
        "medidas = {'Acurácia': [acc], 'Sensibilidade': [sen], 'Precisão': [pre], 'F1-Score': [f1s], 'AUC': [auc]}\n",
        "\n",
        "print(classification_report(predicoes, y_test, digits = 4)[:220])\n",
        "\n",
        "print('Matriz de Confusão:\\n\\n', confusion_matrix(y_test,predicoes))\n",
        "\n",
        "Arvore = pd.DataFrame(medidas, index = [\"Arvore Simples\"]).round(4),arvore"
      ],
      "metadata": {
        "colab": {
          "base_uri": "https://localhost:8080/"
        },
        "id": "8xr2Qyy76rNa",
        "outputId": "9dbf046f-c7f4-4174-f554-2de302b078d1"
      },
      "execution_count": 120,
      "outputs": [
        {
          "output_type": "stream",
          "name": "stdout",
          "text": [
            "              precision    recall  f1-score   support\n",
            "\n",
            "           0     0.9999    0.9989    0.9994    912464\n",
            "           1     0.6192    0.9475    0.7489      1771\n",
            "\n",
            "    accuracy                         0.9988    914235\n",
            "  \n",
            "Matriz de Confusão:\n",
            "\n",
            " [[911432     93]\n",
            " [  1032   1678]]\n",
            "CPU times: user 14.6 s, sys: 345 ms, total: 14.9 s\n",
            "Wall time: 56.1 s\n"
          ]
        }
      ]
    },
    {
      "cell_type": "code",
      "source": [
        "Arvore[0]"
      ],
      "metadata": {
        "colab": {
          "base_uri": "https://localhost:8080/",
          "height": 81
        },
        "id": "3yvmFdfPKTkx",
        "outputId": "908b722f-0dfc-41b3-8c39-8d1573ef19f0"
      },
      "execution_count": 121,
      "outputs": [
        {
          "output_type": "execute_result",
          "data": {
            "text/plain": [
              "                Acurácia  Sensibilidade  Precisão  F1-Score     AUC\n",
              "Arvore Simples   0.99880        0.61920   0.94750   0.74890 0.93140"
            ],
            "text/html": [
              "\n",
              "  <div id=\"df-049546c9-dd16-47f6-b6b4-ad770f6d0431\">\n",
              "    <div class=\"colab-df-container\">\n",
              "      <div>\n",
              "<style scoped>\n",
              "    .dataframe tbody tr th:only-of-type {\n",
              "        vertical-align: middle;\n",
              "    }\n",
              "\n",
              "    .dataframe tbody tr th {\n",
              "        vertical-align: top;\n",
              "    }\n",
              "\n",
              "    .dataframe thead th {\n",
              "        text-align: right;\n",
              "    }\n",
              "</style>\n",
              "<table border=\"1\" class=\"dataframe\">\n",
              "  <thead>\n",
              "    <tr style=\"text-align: right;\">\n",
              "      <th></th>\n",
              "      <th>Acurácia</th>\n",
              "      <th>Sensibilidade</th>\n",
              "      <th>Precisão</th>\n",
              "      <th>F1-Score</th>\n",
              "      <th>AUC</th>\n",
              "    </tr>\n",
              "  </thead>\n",
              "  <tbody>\n",
              "    <tr>\n",
              "      <th>Arvore Simples</th>\n",
              "      <td>0.99880</td>\n",
              "      <td>0.61920</td>\n",
              "      <td>0.94750</td>\n",
              "      <td>0.74890</td>\n",
              "      <td>0.93140</td>\n",
              "    </tr>\n",
              "  </tbody>\n",
              "</table>\n",
              "</div>\n",
              "      <button class=\"colab-df-convert\" onclick=\"convertToInteractive('df-049546c9-dd16-47f6-b6b4-ad770f6d0431')\"\n",
              "              title=\"Convert this dataframe to an interactive table.\"\n",
              "              style=\"display:none;\">\n",
              "        \n",
              "  <svg xmlns=\"http://www.w3.org/2000/svg\" height=\"24px\"viewBox=\"0 0 24 24\"\n",
              "       width=\"24px\">\n",
              "    <path d=\"M0 0h24v24H0V0z\" fill=\"none\"/>\n",
              "    <path d=\"M18.56 5.44l.94 2.06.94-2.06 2.06-.94-2.06-.94-.94-2.06-.94 2.06-2.06.94zm-11 1L8.5 8.5l.94-2.06 2.06-.94-2.06-.94L8.5 2.5l-.94 2.06-2.06.94zm10 10l.94 2.06.94-2.06 2.06-.94-2.06-.94-.94-2.06-.94 2.06-2.06.94z\"/><path d=\"M17.41 7.96l-1.37-1.37c-.4-.4-.92-.59-1.43-.59-.52 0-1.04.2-1.43.59L10.3 9.45l-7.72 7.72c-.78.78-.78 2.05 0 2.83L4 21.41c.39.39.9.59 1.41.59.51 0 1.02-.2 1.41-.59l7.78-7.78 2.81-2.81c.8-.78.8-2.07 0-2.86zM5.41 20L4 18.59l7.72-7.72 1.47 1.35L5.41 20z\"/>\n",
              "  </svg>\n",
              "      </button>\n",
              "      \n",
              "  <style>\n",
              "    .colab-df-container {\n",
              "      display:flex;\n",
              "      flex-wrap:wrap;\n",
              "      gap: 12px;\n",
              "    }\n",
              "\n",
              "    .colab-df-convert {\n",
              "      background-color: #E8F0FE;\n",
              "      border: none;\n",
              "      border-radius: 50%;\n",
              "      cursor: pointer;\n",
              "      display: none;\n",
              "      fill: #1967D2;\n",
              "      height: 32px;\n",
              "      padding: 0 0 0 0;\n",
              "      width: 32px;\n",
              "    }\n",
              "\n",
              "    .colab-df-convert:hover {\n",
              "      background-color: #E2EBFA;\n",
              "      box-shadow: 0px 1px 2px rgba(60, 64, 67, 0.3), 0px 1px 3px 1px rgba(60, 64, 67, 0.15);\n",
              "      fill: #174EA6;\n",
              "    }\n",
              "\n",
              "    [theme=dark] .colab-df-convert {\n",
              "      background-color: #3B4455;\n",
              "      fill: #D2E3FC;\n",
              "    }\n",
              "\n",
              "    [theme=dark] .colab-df-convert:hover {\n",
              "      background-color: #434B5C;\n",
              "      box-shadow: 0px 1px 3px 1px rgba(0, 0, 0, 0.15);\n",
              "      filter: drop-shadow(0px 1px 2px rgba(0, 0, 0, 0.3));\n",
              "      fill: #FFFFFF;\n",
              "    }\n",
              "  </style>\n",
              "\n",
              "      <script>\n",
              "        const buttonEl =\n",
              "          document.querySelector('#df-049546c9-dd16-47f6-b6b4-ad770f6d0431 button.colab-df-convert');\n",
              "        buttonEl.style.display =\n",
              "          google.colab.kernel.accessAllowed ? 'block' : 'none';\n",
              "\n",
              "        async function convertToInteractive(key) {\n",
              "          const element = document.querySelector('#df-049546c9-dd16-47f6-b6b4-ad770f6d0431');\n",
              "          const dataTable =\n",
              "            await google.colab.kernel.invokeFunction('convertToInteractive',\n",
              "                                                     [key], {});\n",
              "          if (!dataTable) return;\n",
              "\n",
              "          const docLinkHtml = 'Like what you see? Visit the ' +\n",
              "            '<a target=\"_blank\" href=https://colab.research.google.com/notebooks/data_table.ipynb>data table notebook</a>'\n",
              "            + ' to learn more about interactive tables.';\n",
              "          element.innerHTML = '';\n",
              "          dataTable['output_type'] = 'display_data';\n",
              "          await google.colab.output.renderOutput(dataTable, element);\n",
              "          const docLink = document.createElement('div');\n",
              "          docLink.innerHTML = docLinkHtml;\n",
              "          element.appendChild(docLink);\n",
              "        }\n",
              "      </script>\n",
              "    </div>\n",
              "  </div>\n",
              "  "
            ]
          },
          "metadata": {},
          "execution_count": 121
        }
      ]
    },
    {
      "cell_type": "code",
      "source": [
        "plot_roc_curve(arvore, X_test, y_test)"
      ],
      "metadata": {
        "colab": {
          "base_uri": "https://localhost:8080/",
          "height": 296
        },
        "id": "8Ab11cBRKtuw",
        "outputId": "22c9a280-1628-41ef-f32d-52317e73cdad"
      },
      "execution_count": 122,
      "outputs": [
        {
          "output_type": "execute_result",
          "data": {
            "text/plain": [
              "<sklearn.metrics._plot.roc_curve.RocCurveDisplay at 0x7f5ec76e6d10>"
            ]
          },
          "metadata": {},
          "execution_count": 122
        },
        {
          "output_type": "display_data",
          "data": {
            "text/plain": [
              "<Figure size 432x288 with 1 Axes>"
            ],
            "image/png": "[encoded data removed]"
          },
          "metadata": {
            "needs_background": "light"
          }
        }
      ]
    },
    {
      "cell_type": "markdown",
      "source": [
        "# Modelagem, Tunning, Treino e Métrica- RandomForest(Floresta Aleatória)"
      ],
      "metadata": {
        "id": "88D7FszXfVkO"
      }
    },
    {
      "cell_type": "code",
      "source": [
        "%%time\n",
        "#Parametrização RandomForest\n",
        "parametros = { 'n_estimators': [5],\n",
        "                  'criterion':['gini','entropy'],\n",
        "                   'random_state':[42]\n",
        "                    }\n",
        "\n",
        "modelo = cpu_RandomForestClassifier()\n",
        "\n",
        "#Tunning Random Forest\n",
        "floresta = RandomizedSearchCV(modelo, \n",
        "                            param_distributions = parametros,\n",
        "                            scoring = 'f1', \n",
        "                            cv = validacao,\n",
        "                            n_iter = 2, \n",
        "                            n_jobs = -1)\n",
        "\n",
        "#Treino e Metrificação Random Forest\n",
        "floresta.fit(X_train, y_train)\n",
        "\n",
        "predicoes = floresta.predict(X_test)\n",
        "y_floresta_proba = floresta.predict_proba(X_test)\n",
        "acc = accuracy_score(y_test,predicoes)\n",
        "sen = recall_score(y_test,predicoes)\n",
        "pre = precision_score(y_test,predicoes)\n",
        "f1s = f1_score(y_test,predicoes)\n",
        "auc = roc_auc_score(y_test,y_floresta_proba[:,1])\n",
        "\n",
        "medidas = {'Acurácia': [acc], 'Sensibilidade': [sen], 'Precisão': [pre], 'F1-Score': [f1s], 'AUC': [auc]}\n",
        "\n",
        "print(classification_report(predicoes, y_test, digits = 4)[:220])\n",
        "\n",
        "print('Matriz de Confusão:\\n\\n', confusion_matrix(y_test,predicoes))\n",
        "\n",
        "Floresta = pd.DataFrame(medidas, index = ['Floresta Aleatoria']).round(4), floresta"
      ],
      "metadata": {
        "colab": {
          "base_uri": "https://localhost:8080/"
        },
        "id": "tf5yM1VWEvJb",
        "outputId": "219b7834-dca9-431c-ccf4-50f6a8586c2f"
      },
      "execution_count": 124,
      "outputs": [
        {
          "output_type": "stream",
          "name": "stdout",
          "text": [
            "              precision    recall  f1-score   support\n",
            "\n",
            "           0     0.9999    0.9993    0.9996    912150\n",
            "           1     0.7509    0.9760    0.8488      2085\n",
            "\n",
            "    accuracy                         0.9992    914235\n",
            "  \n",
            "Matriz de Confusão:\n",
            "\n",
            " [[911475     50]\n",
            " [   675   2035]]\n",
            "CPU times: user 33.9 s, sys: 554 ms, total: 34.4 s\n",
            "Wall time: 2min 46s\n"
          ]
        }
      ]
    },
    {
      "cell_type": "code",
      "source": [
        "plot_roc_curve(floresta, X_test, y_test)"
      ],
      "metadata": {
        "colab": {
          "base_uri": "https://localhost:8080/",
          "height": 296
        },
        "id": "Wg6eDX20O0zU",
        "outputId": "6403a4bd-ac04-4c58-b787-1ed3b6caae53"
      },
      "execution_count": 125,
      "outputs": [
        {
          "output_type": "execute_result",
          "data": {
            "text/plain": [
              "<sklearn.metrics._plot.roc_curve.RocCurveDisplay at 0x7f5ec5c1a150>"
            ]
          },
          "metadata": {},
          "execution_count": 125
        },
        {
          "output_type": "display_data",
          "data": {
            "text/plain": [
              "<Figure size 432x288 with 1 Axes>"
            ],
            "image/png": "[encoded data removed]"
          },
          "metadata": {
            "needs_background": "light"
          }
        }
      ]
    },
    {
      "cell_type": "code",
      "source": [
        "Floresta[0]"
      ],
      "metadata": {
        "colab": {
          "base_uri": "https://localhost:8080/",
          "height": 81
        },
        "id": "mUeIksyPRLbN",
        "outputId": "1f160836-54c4-49d6-8284-cb3a206e7070"
      },
      "execution_count": 126,
      "outputs": [
        {
          "output_type": "execute_result",
          "data": {
            "text/plain": [
              "                    Acurácia  Sensibilidade  Precisão  F1-Score     AUC\n",
              "Floresta Aleatoria   0.99920        0.75090   0.97600   0.84880 0.93740"
            ],
            "text/html": [
              "\n",
              "  <div id=\"df-8662b3e1-56a8-48a2-ad91-bbdf95508c4a\">\n",
              "    <div class=\"colab-df-container\">\n",
              "      <div>\n",
              "<style scoped>\n",
              "    .dataframe tbody tr th:only-of-type {\n",
              "        vertical-align: middle;\n",
              "    }\n",
              "\n",
              "    .dataframe tbody tr th {\n",
              "        vertical-align: top;\n",
              "    }\n",
              "\n",
              "    .dataframe thead th {\n",
              "        text-align: right;\n",
              "    }\n",
              "</style>\n",
              "<table border=\"1\" class=\"dataframe\">\n",
              "  <thead>\n",
              "    <tr style=\"text-align: right;\">\n",
              "      <th></th>\n",
              "      <th>Acurácia</th>\n",
              "      <th>Sensibilidade</th>\n",
              "      <th>Precisão</th>\n",
              "      <th>F1-Score</th>\n",
              "      <th>AUC</th>\n",
              "    </tr>\n",
              "  </thead>\n",
              "  <tbody>\n",
              "    <tr>\n",
              "      <th>Floresta Aleatoria</th>\n",
              "      <td>0.99920</td>\n",
              "      <td>0.75090</td>\n",
              "      <td>0.97600</td>\n",
              "      <td>0.84880</td>\n",
              "      <td>0.93740</td>\n",
              "    </tr>\n",
              "  </tbody>\n",
              "</table>\n",
              "</div>\n",
              "      <button class=\"colab-df-convert\" onclick=\"convertToInteractive('df-8662b3e1-56a8-48a2-ad91-bbdf95508c4a')\"\n",
              "              title=\"Convert this dataframe to an interactive table.\"\n",
              "              style=\"display:none;\">\n",
              "        \n",
              "  <svg xmlns=\"http://www.w3.org/2000/svg\" height=\"24px\"viewBox=\"0 0 24 24\"\n",
              "       width=\"24px\">\n",
              "    <path d=\"M0 0h24v24H0V0z\" fill=\"none\"/>\n",
              "    <path d=\"M18.56 5.44l.94 2.06.94-2.06 2.06-.94-2.06-.94-.94-2.06-.94 2.06-2.06.94zm-11 1L8.5 8.5l.94-2.06 2.06-.94-2.06-.94L8.5 2.5l-.94 2.06-2.06.94zm10 10l.94 2.06.94-2.06 2.06-.94-2.06-.94-.94-2.06-.94 2.06-2.06.94z\"/><path d=\"M17.41 7.96l-1.37-1.37c-.4-.4-.92-.59-1.43-.59-.52 0-1.04.2-1.43.59L10.3 9.45l-7.72 7.72c-.78.78-.78 2.05 0 2.83L4 21.41c.39.39.9.59 1.41.59.51 0 1.02-.2 1.41-.59l7.78-7.78 2.81-2.81c.8-.78.8-2.07 0-2.86zM5.41 20L4 18.59l7.72-7.72 1.47 1.35L5.41 20z\"/>\n",
              "  </svg>\n",
              "      </button>\n",
              "      \n",
              "  <style>\n",
              "    .colab-df-container {\n",
              "      display:flex;\n",
              "      flex-wrap:wrap;\n",
              "      gap: 12px;\n",
              "    }\n",
              "\n",
              "    .colab-df-convert {\n",
              "      background-color: #E8F0FE;\n",
              "      border: none;\n",
              "      border-radius: 50%;\n",
              "      cursor: pointer;\n",
              "      display: none;\n",
              "      fill: #1967D2;\n",
              "      height: 32px;\n",
              "      padding: 0 0 0 0;\n",
              "      width: 32px;\n",
              "    }\n",
              "\n",
              "    .colab-df-convert:hover {\n",
              "      background-color: #E2EBFA;\n",
              "      box-shadow: 0px 1px 2px rgba(60, 64, 67, 0.3), 0px 1px 3px 1px rgba(60, 64, 67, 0.15);\n",
              "      fill: #174EA6;\n",
              "    }\n",
              "\n",
              "    [theme=dark] .colab-df-convert {\n",
              "      background-color: #3B4455;\n",
              "      fill: #D2E3FC;\n",
              "    }\n",
              "\n",
              "    [theme=dark] .colab-df-convert:hover {\n",
              "      background-color: #434B5C;\n",
              "      box-shadow: 0px 1px 3px 1px rgba(0, 0, 0, 0.15);\n",
              "      filter: drop-shadow(0px 1px 2px rgba(0, 0, 0, 0.3));\n",
              "      fill: #FFFFFF;\n",
              "    }\n",
              "  </style>\n",
              "\n",
              "      <script>\n",
              "        const buttonEl =\n",
              "          document.querySelector('#df-8662b3e1-56a8-48a2-ad91-bbdf95508c4a button.colab-df-convert');\n",
              "        buttonEl.style.display =\n",
              "          google.colab.kernel.accessAllowed ? 'block' : 'none';\n",
              "\n",
              "        async function convertToInteractive(key) {\n",
              "          const element = document.querySelector('#df-8662b3e1-56a8-48a2-ad91-bbdf95508c4a');\n",
              "          const dataTable =\n",
              "            await google.colab.kernel.invokeFunction('convertToInteractive',\n",
              "                                                     [key], {});\n",
              "          if (!dataTable) return;\n",
              "\n",
              "          const docLinkHtml = 'Like what you see? Visit the ' +\n",
              "            '<a target=\"_blank\" href=https://colab.research.google.com/notebooks/data_table.ipynb>data table notebook</a>'\n",
              "            + ' to learn more about interactive tables.';\n",
              "          element.innerHTML = '';\n",
              "          dataTable['output_type'] = 'display_data';\n",
              "          await google.colab.output.renderOutput(dataTable, element);\n",
              "          const docLink = document.createElement('div');\n",
              "          docLink.innerHTML = docLinkHtml;\n",
              "          element.appendChild(docLink);\n",
              "        }\n",
              "      </script>\n",
              "    </div>\n",
              "  </div>\n",
              "  "
            ]
          },
          "metadata": {},
          "execution_count": 126
        }
      ]
    },
    {
      "cell_type": "markdown",
      "metadata": {
        "id": "RaxwrSTJ7VCG"
      },
      "source": [
        "### Treinamento do modelo - XGBoost"
      ]
    },
    {
      "cell_type": "code",
      "metadata": {
        "id": "HPAjXbx57VCH",
        "outputId": "79086ece-916a-4931-b61a-52cb6017863a",
        "colab": {
          "base_uri": "https://localhost:8080/"
        }
      },
      "source": [
        "%%time\n",
        "\n",
        "# Parametrização do XGBoost\n",
        "params = {'learning_rate': 0.1,\n",
        "          'colsample_bytree' : 0.3,\n",
        "          'max_depth': 5,\n",
        "          'objective': 'binary:logistic',\n",
        "          'alpha' : 10,\n",
        "          'n_estimators': 100}\n",
        "\n",
        "# Treinamento do modelo XGBoost\n",
        "cpu_trained_model = XGBClassifier(**params)\n",
        "cpu_trained_model.fit(X_train, y_train, eval_set=[(X_train, y_train), (X_test, y_test)],\n",
        "                      eval_metric='auc', verbose=False)"
      ],
      "execution_count": 34,
      "outputs": [
        {
          "output_type": "stream",
          "name": "stdout",
          "text": [
            "CPU times: user 3min 28s, sys: 626 ms, total: 3min 29s\n",
            "Wall time: 3min 28s\n"
          ]
        }
      ]
    },
    {
      "cell_type": "code",
      "metadata": {
        "id": "vi32D8zR7VCH",
        "outputId": "a5847479-3b7b-48d9-920b-52b9b5377049",
        "colab": {
          "base_uri": "https://localhost:8080/"
        }
      },
      "source": [
        "%%time\n",
        "# Predições\n",
        "y_pred_cpu = cpu_trained_model.predict(X_test) "
      ],
      "execution_count": 35,
      "outputs": [
        {
          "output_type": "stream",
          "name": "stdout",
          "text": [
            "CPU times: user 3.54 s, sys: 3.9 ms, total: 3.55 s\n",
            "Wall time: 3.55 s\n"
          ]
        }
      ]
    },
    {
      "cell_type": "code",
      "source": [
        "y_pred_proba =cpu_trained_model.predict_proba(X_test)"
      ],
      "metadata": {
        "id": "LopDXNAc-KMX"
      },
      "execution_count": 104,
      "outputs": []
    },
    {
      "cell_type": "code",
      "source": [
        "%%time\n",
        "print(y_pred_proba[:1])"
      ],
      "metadata": {
        "colab": {
          "base_uri": "https://localhost:8080/"
        },
        "id": "oKzQDpt4-Ycy",
        "outputId": "33b63cb5-6329-4eb1-dace-c71090c8613c"
      },
      "execution_count": 106,
      "outputs": [
        {
          "output_type": "stream",
          "name": "stdout",
          "text": [
            "[[9.9953192e-01 4.6808037e-04]]\n",
            "CPU times: user 2.73 ms, sys: 0 ns, total: 2.73 ms\n",
            "Wall time: 5.96 ms\n"
          ]
        }
      ]
    },
    {
      "cell_type": "code",
      "source": [
        "%%time\n",
        "acc = accuracy_score(y_test,y_pred_cpu)\n",
        "sen = recall_score(y_test,y_pred_cpu)\n",
        "pre = precision_score(y_test,y_pred_cpu)\n",
        "f1s = f1_score(y_test,y_pred_cpu)\n",
        "auc = roc_auc_score(y_test, y_pred_proba[:, 1])\n",
        "\n",
        "medidas = {'Acurácia': [acc], 'Sensibilidade': [sen], 'Precisão': [pre], 'F1-Score': [f1s], 'AUC': [auc]}\n",
        "\n",
        "print(classification_report(y_test,y_pred_cpu, digits = 4)[:220])\n",
        "\n",
        "print('Matriz de Confusão:\\n\\n', confusion_matrix(y_test,y_pred_cpu))\n",
        "\n",
        "Xboost = pd.DataFrame(medidas, index = ['XBoost']).round(4), cpu_trained_model"
      ],
      "metadata": {
        "colab": {
          "base_uri": "https://localhost:8080/"
        },
        "id": "ywSDITDsdb4b",
        "outputId": "5f6b8bd2-d91b-4659-e8ac-1f70a0d58f85"
      },
      "execution_count": 107,
      "outputs": [
        {
          "output_type": "stream",
          "name": "stdout",
          "text": [
            "              precision    recall  f1-score   support\n",
            "\n",
            "           0     0.9990    1.0000    0.9995    911525\n",
            "           1     0.9935    0.6797    0.8072      2710\n",
            "\n",
            "    accuracy                         0.9990    914235\n",
            "  \n",
            "Matriz de Confusão:\n",
            "\n",
            " [[911513     12]\n",
            " [   868   1842]]\n",
            "CPU times: user 5.21 s, sys: 52.7 ms, total: 5.26 s\n",
            "Wall time: 8.33 s\n"
          ]
        }
      ]
    },
    {
      "cell_type": "code",
      "source": [
        "Xboost[0]"
      ],
      "metadata": {
        "colab": {
          "base_uri": "https://localhost:8080/",
          "height": 81
        },
        "id": "p5dtfrATey_P",
        "outputId": "7f3a0ac8-999e-4797-e6de-cb1713bad21c"
      },
      "execution_count": 108,
      "outputs": [
        {
          "output_type": "execute_result",
          "data": {
            "text/plain": [
              "        Acurácia  Sensibilidade  Precisão  F1-Score     AUC\n",
              "XBoost   0.99900        0.67970   0.99350   0.80720 0.98810"
            ],
            "text/html": [
              "\n",
              "  <div id=\"df-aacfcfdc-f7a3-4feb-90cc-d506a960e43d\">\n",
              "    <div class=\"colab-df-container\">\n",
              "      <div>\n",
              "<style scoped>\n",
              "    .dataframe tbody tr th:only-of-type {\n",
              "        vertical-align: middle;\n",
              "    }\n",
              "\n",
              "    .dataframe tbody tr th {\n",
              "        vertical-align: top;\n",
              "    }\n",
              "\n",
              "    .dataframe thead th {\n",
              "        text-align: right;\n",
              "    }\n",
              "</style>\n",
              "<table border=\"1\" class=\"dataframe\">\n",
              "  <thead>\n",
              "    <tr style=\"text-align: right;\">\n",
              "      <th></th>\n",
              "      <th>Acurácia</th>\n",
              "      <th>Sensibilidade</th>\n",
              "      <th>Precisão</th>\n",
              "      <th>F1-Score</th>\n",
              "      <th>AUC</th>\n",
              "    </tr>\n",
              "  </thead>\n",
              "  <tbody>\n",
              "    <tr>\n",
              "      <th>XBoost</th>\n",
              "      <td>0.99900</td>\n",
              "      <td>0.67970</td>\n",
              "      <td>0.99350</td>\n",
              "      <td>0.80720</td>\n",
              "      <td>0.98810</td>\n",
              "    </tr>\n",
              "  </tbody>\n",
              "</table>\n",
              "</div>\n",
              "      <button class=\"colab-df-convert\" onclick=\"convertToInteractive('df-aacfcfdc-f7a3-4feb-90cc-d506a960e43d')\"\n",
              "              title=\"Convert this dataframe to an interactive table.\"\n",
              "              style=\"display:none;\">\n",
              "        \n",
              "  <svg xmlns=\"http://www.w3.org/2000/svg\" height=\"24px\"viewBox=\"0 0 24 24\"\n",
              "       width=\"24px\">\n",
              "    <path d=\"M0 0h24v24H0V0z\" fill=\"none\"/>\n",
              "    <path d=\"M18.56 5.44l.94 2.06.94-2.06 2.06-.94-2.06-.94-.94-2.06-.94 2.06-2.06.94zm-11 1L8.5 8.5l.94-2.06 2.06-.94-2.06-.94L8.5 2.5l-.94 2.06-2.06.94zm10 10l.94 2.06.94-2.06 2.06-.94-2.06-.94-.94-2.06-.94 2.06-2.06.94z\"/><path d=\"M17.41 7.96l-1.37-1.37c-.4-.4-.92-.59-1.43-.59-.52 0-1.04.2-1.43.59L10.3 9.45l-7.72 7.72c-.78.78-.78 2.05 0 2.83L4 21.41c.39.39.9.59 1.41.59.51 0 1.02-.2 1.41-.59l7.78-7.78 2.81-2.81c.8-.78.8-2.07 0-2.86zM5.41 20L4 18.59l7.72-7.72 1.47 1.35L5.41 20z\"/>\n",
              "  </svg>\n",
              "      </button>\n",
              "      \n",
              "  <style>\n",
              "    .colab-df-container {\n",
              "      display:flex;\n",
              "      flex-wrap:wrap;\n",
              "      gap: 12px;\n",
              "    }\n",
              "\n",
              "    .colab-df-convert {\n",
              "      background-color: #E8F0FE;\n",
              "      border: none;\n",
              "      border-radius: 50%;\n",
              "      cursor: pointer;\n",
              "      display: none;\n",
              "      fill: #1967D2;\n",
              "      height: 32px;\n",
              "      padding: 0 0 0 0;\n",
              "      width: 32px;\n",
              "    }\n",
              "\n",
              "    .colab-df-convert:hover {\n",
              "      background-color: #E2EBFA;\n",
              "      box-shadow: 0px 1px 2px rgba(60, 64, 67, 0.3), 0px 1px 3px 1px rgba(60, 64, 67, 0.15);\n",
              "      fill: #174EA6;\n",
              "    }\n",
              "\n",
              "    [theme=dark] .colab-df-convert {\n",
              "      background-color: #3B4455;\n",
              "      fill: #D2E3FC;\n",
              "    }\n",
              "\n",
              "    [theme=dark] .colab-df-convert:hover {\n",
              "      background-color: #434B5C;\n",
              "      box-shadow: 0px 1px 3px 1px rgba(0, 0, 0, 0.15);\n",
              "      filter: drop-shadow(0px 1px 2px rgba(0, 0, 0, 0.3));\n",
              "      fill: #FFFFFF;\n",
              "    }\n",
              "  </style>\n",
              "\n",
              "      <script>\n",
              "        const buttonEl =\n",
              "          document.querySelector('#df-aacfcfdc-f7a3-4feb-90cc-d506a960e43d button.colab-df-convert');\n",
              "        buttonEl.style.display =\n",
              "          google.colab.kernel.accessAllowed ? 'block' : 'none';\n",
              "\n",
              "        async function convertToInteractive(key) {\n",
              "          const element = document.querySelector('#df-aacfcfdc-f7a3-4feb-90cc-d506a960e43d');\n",
              "          const dataTable =\n",
              "            await google.colab.kernel.invokeFunction('convertToInteractive',\n",
              "                                                     [key], {});\n",
              "          if (!dataTable) return;\n",
              "\n",
              "          const docLinkHtml = 'Like what you see? Visit the ' +\n",
              "            '<a target=\"_blank\" href=https://colab.research.google.com/notebooks/data_table.ipynb>data table notebook</a>'\n",
              "            + ' to learn more about interactive tables.';\n",
              "          element.innerHTML = '';\n",
              "          dataTable['output_type'] = 'display_data';\n",
              "          await google.colab.output.renderOutput(dataTable, element);\n",
              "          const docLink = document.createElement('div');\n",
              "          docLink.innerHTML = docLinkHtml;\n",
              "          element.appendChild(docLink);\n",
              "        }\n",
              "      </script>\n",
              "    </div>\n",
              "  </div>\n",
              "  "
            ]
          },
          "metadata": {},
          "execution_count": 108
        }
      ]
    },
    {
      "cell_type": "code",
      "source": [
        "plot_roc_curve(cpu_trained_model, X_test, y_test)"
      ],
      "metadata": {
        "colab": {
          "base_uri": "https://localhost:8080/",
          "height": 296
        },
        "id": "pRI5NkouopKJ",
        "outputId": "43ba4ce4-d436-4384-d30f-e97ab9c9fd35"
      },
      "execution_count": 94,
      "outputs": [
        {
          "output_type": "execute_result",
          "data": {
            "text/plain": [
              "<sklearn.metrics._plot.roc_curve.RocCurveDisplay at 0x7f5ecb0da510>"
            ]
          },
          "metadata": {},
          "execution_count": 94
        },
        {
          "output_type": "display_data",
          "data": {
            "text/plain": [
              "<Figure size 432x288 with 1 Axes>"
            ],
            "image/png": "[encoded data removed]"
          },
          "metadata": {
            "needs_background": "light"
          }
        }
      ]
    },
    {
      "cell_type": "code",
      "source": [
        "# Comparação das  AUC\n",
        "classifiers = [arvore, floresta,cpu_trained_model]\n",
        "ax = plt.gca()\n",
        "for i in classifiers:\n",
        "    plot_roc_curve(i, X_test, y_test, ax=ax)"
      ],
      "metadata": {
        "colab": {
          "base_uri": "https://localhost:8080/",
          "height": 279
        },
        "id": "TAWMToeTPYv6",
        "outputId": "7fd3926c-1f05-4d33-97e1-3b3563a1440c"
      },
      "execution_count": 131,
      "outputs": [
        {
          "output_type": "display_data",
          "data": {
            "text/plain": [
              "<Figure size 432x288 with 1 Axes>"
            ],
            "image/png": "[encoded data removed]"
          },
          "metadata": {
            "needs_background": "light"
          }
        }
      ]
    },
    {
      "cell_type": "markdown",
      "source": [
        "# Ajuste de Corte Xboost"
      ],
      "metadata": {
        "id": "w56xJjmsjxGa"
      }
    },
    {
      "cell_type": "code",
      "source": [
        "from sklearn.metrics import precision_recall_curve \n",
        "propensoes = Xboost[1].predict_proba(X_test)[:,1]\n",
        "\n",
        "precision, recall, thresholds = precision_recall_curve(y_test, propensoes)"
      ],
      "metadata": {
        "id": "m3g9LpJ1hizb"
      },
      "execution_count": 138,
      "outputs": []
    },
    {
      "cell_type": "code",
      "source": [
        "from sklearn.metrics import PrecisionRecallDisplay \n",
        "import matplotlib.pyplot as plt\n",
        "PrecisionRecallDisplay.from_predictions(y_test, propensoes)\n",
        "plt.show()"
      ],
      "metadata": {
        "colab": {
          "base_uri": "https://localhost:8080/",
          "height": 279
        },
        "id": "7tOrvXyOhskO",
        "outputId": "e298a149-f248-45ce-fa26-bb09a1dc3aa9"
      },
      "execution_count": 139,
      "outputs": [
        {
          "output_type": "display_data",
          "data": {
            "text/plain": [
              "<Figure size 432x288 with 1 Axes>"
            ],
            "image/png": "[encoded data removed]"
          },
          "metadata": {
            "needs_background": "light"
          }
        }
      ]
    },
    {
      "cell_type": "code",
      "source": [
        "#custos do modelo considerando que para detecão de fraude a sensibilidade é mais importante que a precisão\n",
        "s = 2\n",
        "p = 1\n",
        "\n",
        "aux = pd.DataFrame({ 'Sensibilidade': recall[1:], 'Precisao': precision[1:], 'Corte': thresholds })\n",
        "aux['Custo'] = (p*aux['Precisao'] + s*aux['Sensibilidade'])/(p+s)\n",
        "aux.sort_values(by = 'Custo', ascending = False)"
      ],
      "metadata": {
        "colab": {
          "base_uri": "https://localhost:8080/",
          "height": 424
        },
        "id": "7eK_x1lHipgt",
        "outputId": "fc1fde70-cacb-4df6-939f-ceb8663b35d9"
      },
      "execution_count": 147,
      "outputs": [
        {
          "output_type": "execute_result",
          "data": {
            "text/plain": [
              "        Sensibilidade  Precisao   Corte   Custo\n",
              "124676        0.71661   0.94917 0.15671 0.79413\n",
              "124675        0.71661   0.94871 0.15490 0.79397\n",
              "124674        0.71661   0.94824 0.15239 0.79382\n",
              "124673        0.71661   0.94778 0.15225 0.79366\n",
              "124672        0.71661   0.94732 0.15109 0.79351\n",
              "...               ...       ...     ...     ...\n",
              "125362        0.00332   1.00000 0.99507 0.33555\n",
              "125363        0.00295   1.00000 0.99519 0.33530\n",
              "125364        0.00258   1.00000 0.99528 0.33506\n",
              "125365        0.00037   1.00000 0.99550 0.33358\n",
              "125366        0.00000   1.00000 0.99710 0.33333\n",
              "\n",
              "[125367 rows x 4 columns]"
            ],
            "text/html": [
              "\n",
              "  <div id=\"df-fd279976-308f-4301-b692-aa7c2f4e33ba\">\n",
              "    <div class=\"colab-df-container\">\n",
              "      <div>\n",
              "<style scoped>\n",
              "    .dataframe tbody tr th:only-of-type {\n",
              "        vertical-align: middle;\n",
              "    }\n",
              "\n",
              "    .dataframe tbody tr th {\n",
              "        vertical-align: top;\n",
              "    }\n",
              "\n",
              "    .dataframe thead th {\n",
              "        text-align: right;\n",
              "    }\n",
              "</style>\n",
              "<table border=\"1\" class=\"dataframe\">\n",
              "  <thead>\n",
              "    <tr style=\"text-align: right;\">\n",
              "      <th></th>\n",
              "      <th>Sensibilidade</th>\n",
              "      <th>Precisao</th>\n",
              "      <th>Corte</th>\n",
              "      <th>Custo</th>\n",
              "    </tr>\n",
              "  </thead>\n",
              "  <tbody>\n",
              "    <tr>\n",
              "      <th>124676</th>\n",
              "      <td>0.71661</td>\n",
              "      <td>0.94917</td>\n",
              "      <td>0.15671</td>\n",
              "      <td>0.79413</td>\n",
              "    </tr>\n",
              "    <tr>\n",
              "      <th>124675</th>\n",
              "      <td>0.71661</td>\n",
              "      <td>0.94871</td>\n",
              "      <td>0.15490</td>\n",
              "      <td>0.79397</td>\n",
              "    </tr>\n",
              "    <tr>\n",
              "      <th>124674</th>\n",
              "      <td>0.71661</td>\n",
              "      <td>0.94824</td>\n",
              "      <td>0.15239</td>\n",
              "      <td>0.79382</td>\n",
              "    </tr>\n",
              "    <tr>\n",
              "      <th>124673</th>\n",
              "      <td>0.71661</td>\n",
              "      <td>0.94778</td>\n",
              "      <td>0.15225</td>\n",
              "      <td>0.79366</td>\n",
              "    </tr>\n",
              "    <tr>\n",
              "      <th>124672</th>\n",
              "      <td>0.71661</td>\n",
              "      <td>0.94732</td>\n",
              "      <td>0.15109</td>\n",
              "      <td>0.79351</td>\n",
              "    </tr>\n",
              "    <tr>\n",
              "      <th>...</th>\n",
              "      <td>...</td>\n",
              "      <td>...</td>\n",
              "      <td>...</td>\n",
              "      <td>...</td>\n",
              "    </tr>\n",
              "    <tr>\n",
              "      <th>125362</th>\n",
              "      <td>0.00332</td>\n",
              "      <td>1.00000</td>\n",
              "      <td>0.99507</td>\n",
              "      <td>0.33555</td>\n",
              "    </tr>\n",
              "    <tr>\n",
              "      <th>125363</th>\n",
              "      <td>0.00295</td>\n",
              "      <td>1.00000</td>\n",
              "      <td>0.99519</td>\n",
              "      <td>0.33530</td>\n",
              "    </tr>\n",
              "    <tr>\n",
              "      <th>125364</th>\n",
              "      <td>0.00258</td>\n",
              "      <td>1.00000</td>\n",
              "      <td>0.99528</td>\n",
              "      <td>0.33506</td>\n",
              "    </tr>\n",
              "    <tr>\n",
              "      <th>125365</th>\n",
              "      <td>0.00037</td>\n",
              "      <td>1.00000</td>\n",
              "      <td>0.99550</td>\n",
              "      <td>0.33358</td>\n",
              "    </tr>\n",
              "    <tr>\n",
              "      <th>125366</th>\n",
              "      <td>0.00000</td>\n",
              "      <td>1.00000</td>\n",
              "      <td>0.99710</td>\n",
              "      <td>0.33333</td>\n",
              "    </tr>\n",
              "  </tbody>\n",
              "</table>\n",
              "<p>125367 rows × 4 columns</p>\n",
              "</div>\n",
              "      <button class=\"colab-df-convert\" onclick=\"convertToInteractive('df-fd279976-308f-4301-b692-aa7c2f4e33ba')\"\n",
              "              title=\"Convert this dataframe to an interactive table.\"\n",
              "              style=\"display:none;\">\n",
              "        \n",
              "  <svg xmlns=\"http://www.w3.org/2000/svg\" height=\"24px\"viewBox=\"0 0 24 24\"\n",
              "       width=\"24px\">\n",
              "    <path d=\"M0 0h24v24H0V0z\" fill=\"none\"/>\n",
              "    <path d=\"M18.56 5.44l.94 2.06.94-2.06 2.06-.94-2.06-.94-.94-2.06-.94 2.06-2.06.94zm-11 1L8.5 8.5l.94-2.06 2.06-.94-2.06-.94L8.5 2.5l-.94 2.06-2.06.94zm10 10l.94 2.06.94-2.06 2.06-.94-2.06-.94-.94-2.06-.94 2.06-2.06.94z\"/><path d=\"M17.41 7.96l-1.37-1.37c-.4-.4-.92-.59-1.43-.59-.52 0-1.04.2-1.43.59L10.3 9.45l-7.72 7.72c-.78.78-.78 2.05 0 2.83L4 21.41c.39.39.9.59 1.41.59.51 0 1.02-.2 1.41-.59l7.78-7.78 2.81-2.81c.8-.78.8-2.07 0-2.86zM5.41 20L4 18.59l7.72-7.72 1.47 1.35L5.41 20z\"/>\n",
              "  </svg>\n",
              "      </button>\n",
              "      \n",
              "  <style>\n",
              "    .colab-df-container {\n",
              "      display:flex;\n",
              "      flex-wrap:wrap;\n",
              "      gap: 12px;\n",
              "    }\n",
              "\n",
              "    .colab-df-convert {\n",
              "      background-color: #E8F0FE;\n",
              "      border: none;\n",
              "      border-radius: 50%;\n",
              "      cursor: pointer;\n",
              "      display: none;\n",
              "      fill: #1967D2;\n",
              "      height: 32px;\n",
              "      padding: 0 0 0 0;\n",
              "      width: 32px;\n",
              "    }\n",
              "\n",
              "    .colab-df-convert:hover {\n",
              "      background-color: #E2EBFA;\n",
              "      box-shadow: 0px 1px 2px rgba(60, 64, 67, 0.3), 0px 1px 3px 1px rgba(60, 64, 67, 0.15);\n",
              "      fill: #174EA6;\n",
              "    }\n",
              "\n",
              "    [theme=dark] .colab-df-convert {\n",
              "      background-color: #3B4455;\n",
              "      fill: #D2E3FC;\n",
              "    }\n",
              "\n",
              "    [theme=dark] .colab-df-convert:hover {\n",
              "      background-color: #434B5C;\n",
              "      box-shadow: 0px 1px 3px 1px rgba(0, 0, 0, 0.15);\n",
              "      filter: drop-shadow(0px 1px 2px rgba(0, 0, 0, 0.3));\n",
              "      fill: #FFFFFF;\n",
              "    }\n",
              "  </style>\n",
              "\n",
              "      <script>\n",
              "        const buttonEl =\n",
              "          document.querySelector('#df-fd279976-308f-4301-b692-aa7c2f4e33ba button.colab-df-convert');\n",
              "        buttonEl.style.display =\n",
              "          google.colab.kernel.accessAllowed ? 'block' : 'none';\n",
              "\n",
              "        async function convertToInteractive(key) {\n",
              "          const element = document.querySelector('#df-fd279976-308f-4301-b692-aa7c2f4e33ba');\n",
              "          const dataTable =\n",
              "            await google.colab.kernel.invokeFunction('convertToInteractive',\n",
              "                                                     [key], {});\n",
              "          if (!dataTable) return;\n",
              "\n",
              "          const docLinkHtml = 'Like what you see? Visit the ' +\n",
              "            '<a target=\"_blank\" href=https://colab.research.google.com/notebooks/data_table.ipynb>data table notebook</a>'\n",
              "            + ' to learn more about interactive tables.';\n",
              "          element.innerHTML = '';\n",
              "          dataTable['output_type'] = 'display_data';\n",
              "          await google.colab.output.renderOutput(dataTable, element);\n",
              "          const docLink = document.createElement('div');\n",
              "          docLink.innerHTML = docLinkHtml;\n",
              "          element.appendChild(docLink);\n",
              "        }\n",
              "      </script>\n",
              "    </div>\n",
              "  </div>\n",
              "  "
            ]
          },
          "metadata": {},
          "execution_count": 147
        }
      ]
    },
    {
      "cell_type": "markdown",
      "source": [
        "No melhor corte da curva auc o Xboost apresenta uma sensibilidade de 0.71. ainda menor que a floresta aleatória"
      ],
      "metadata": {
        "id": "5f9yId-ckz_Y"
      }
    },
    {
      "cell_type": "markdown",
      "metadata": {
        "id": "vf887y847VCK"
      },
      "source": [
        "## Conclusões"
      ]
    },
    {
      "cell_type": "code",
      "source": [
        "pd.concat([Arvore[0], Floresta[0], Xboost[0]])"
      ],
      "metadata": {
        "colab": {
          "base_uri": "https://localhost:8080/",
          "height": 143
        },
        "id": "csht5dOGgMxt",
        "outputId": "e16304eb-ecaa-41ff-d0f0-a8d55224bea4"
      },
      "execution_count": 128,
      "outputs": [
        {
          "output_type": "execute_result",
          "data": {
            "text/plain": [
              "                    Acurácia  Sensibilidade  Precisão  F1-Score     AUC\n",
              "Arvore Simples       0.99880        0.61920   0.94750   0.74890 0.93140\n",
              "Floresta Aleatoria   0.99920        0.75090   0.97600   0.84880 0.93740\n",
              "XBoost               0.99900        0.67970   0.99350   0.80720 0.98810"
            ],
            "text/html": [
              "\n",
              "  <div id=\"df-3e65084c-ff2c-4618-ae64-2604199259c4\">\n",
              "    <div class=\"colab-df-container\">\n",
              "      <div>\n",
              "<style scoped>\n",
              "    .dataframe tbody tr th:only-of-type {\n",
              "        vertical-align: middle;\n",
              "    }\n",
              "\n",
              "    .dataframe tbody tr th {\n",
              "        vertical-align: top;\n",
              "    }\n",
              "\n",
              "    .dataframe thead th {\n",
              "        text-align: right;\n",
              "    }\n",
              "</style>\n",
              "<table border=\"1\" class=\"dataframe\">\n",
              "  <thead>\n",
              "    <tr style=\"text-align: right;\">\n",
              "      <th></th>\n",
              "      <th>Acurácia</th>\n",
              "      <th>Sensibilidade</th>\n",
              "      <th>Precisão</th>\n",
              "      <th>F1-Score</th>\n",
              "      <th>AUC</th>\n",
              "    </tr>\n",
              "  </thead>\n",
              "  <tbody>\n",
              "    <tr>\n",
              "      <th>Arvore Simples</th>\n",
              "      <td>0.99880</td>\n",
              "      <td>0.61920</td>\n",
              "      <td>0.94750</td>\n",
              "      <td>0.74890</td>\n",
              "      <td>0.93140</td>\n",
              "    </tr>\n",
              "    <tr>\n",
              "      <th>Floresta Aleatoria</th>\n",
              "      <td>0.99920</td>\n",
              "      <td>0.75090</td>\n",
              "      <td>0.97600</td>\n",
              "      <td>0.84880</td>\n",
              "      <td>0.93740</td>\n",
              "    </tr>\n",
              "    <tr>\n",
              "      <th>XBoost</th>\n",
              "      <td>0.99900</td>\n",
              "      <td>0.67970</td>\n",
              "      <td>0.99350</td>\n",
              "      <td>0.80720</td>\n",
              "      <td>0.98810</td>\n",
              "    </tr>\n",
              "  </tbody>\n",
              "</table>\n",
              "</div>\n",
              "      <button class=\"colab-df-convert\" onclick=\"convertToInteractive('df-3e65084c-ff2c-4618-ae64-2604199259c4')\"\n",
              "              title=\"Convert this dataframe to an interactive table.\"\n",
              "              style=\"display:none;\">\n",
              "        \n",
              "  <svg xmlns=\"http://www.w3.org/2000/svg\" height=\"24px\"viewBox=\"0 0 24 24\"\n",
              "       width=\"24px\">\n",
              "    <path d=\"M0 0h24v24H0V0z\" fill=\"none\"/>\n",
              "    <path d=\"M18.56 5.44l.94 2.06.94-2.06 2.06-.94-2.06-.94-.94-2.06-.94 2.06-2.06.94zm-11 1L8.5 8.5l.94-2.06 2.06-.94-2.06-.94L8.5 2.5l-.94 2.06-2.06.94zm10 10l.94 2.06.94-2.06 2.06-.94-2.06-.94-.94-2.06-.94 2.06-2.06.94z\"/><path d=\"M17.41 7.96l-1.37-1.37c-.4-.4-.92-.59-1.43-.59-.52 0-1.04.2-1.43.59L10.3 9.45l-7.72 7.72c-.78.78-.78 2.05 0 2.83L4 21.41c.39.39.9.59 1.41.59.51 0 1.02-.2 1.41-.59l7.78-7.78 2.81-2.81c.8-.78.8-2.07 0-2.86zM5.41 20L4 18.59l7.72-7.72 1.47 1.35L5.41 20z\"/>\n",
              "  </svg>\n",
              "      </button>\n",
              "      \n",
              "  <style>\n",
              "    .colab-df-container {\n",
              "      display:flex;\n",
              "      flex-wrap:wrap;\n",
              "      gap: 12px;\n",
              "    }\n",
              "\n",
              "    .colab-df-convert {\n",
              "      background-color: #E8F0FE;\n",
              "      border: none;\n",
              "      border-radius: 50%;\n",
              "      cursor: pointer;\n",
              "      display: none;\n",
              "      fill: #1967D2;\n",
              "      height: 32px;\n",
              "      padding: 0 0 0 0;\n",
              "      width: 32px;\n",
              "    }\n",
              "\n",
              "    .colab-df-convert:hover {\n",
              "      background-color: #E2EBFA;\n",
              "      box-shadow: 0px 1px 2px rgba(60, 64, 67, 0.3), 0px 1px 3px 1px rgba(60, 64, 67, 0.15);\n",
              "      fill: #174EA6;\n",
              "    }\n",
              "\n",
              "    [theme=dark] .colab-df-convert {\n",
              "      background-color: #3B4455;\n",
              "      fill: #D2E3FC;\n",
              "    }\n",
              "\n",
              "    [theme=dark] .colab-df-convert:hover {\n",
              "      background-color: #434B5C;\n",
              "      box-shadow: 0px 1px 3px 1px rgba(0, 0, 0, 0.15);\n",
              "      filter: drop-shadow(0px 1px 2px rgba(0, 0, 0, 0.3));\n",
              "      fill: #FFFFFF;\n",
              "    }\n",
              "  </style>\n",
              "\n",
              "      <script>\n",
              "        const buttonEl =\n",
              "          document.querySelector('#df-3e65084c-ff2c-4618-ae64-2604199259c4 button.colab-df-convert');\n",
              "        buttonEl.style.display =\n",
              "          google.colab.kernel.accessAllowed ? 'block' : 'none';\n",
              "\n",
              "        async function convertToInteractive(key) {\n",
              "          const element = document.querySelector('#df-3e65084c-ff2c-4618-ae64-2604199259c4');\n",
              "          const dataTable =\n",
              "            await google.colab.kernel.invokeFunction('convertToInteractive',\n",
              "                                                     [key], {});\n",
              "          if (!dataTable) return;\n",
              "\n",
              "          const docLinkHtml = 'Like what you see? Visit the ' +\n",
              "            '<a target=\"_blank\" href=https://colab.research.google.com/notebooks/data_table.ipynb>data table notebook</a>'\n",
              "            + ' to learn more about interactive tables.';\n",
              "          element.innerHTML = '';\n",
              "          dataTable['output_type'] = 'display_data';\n",
              "          await google.colab.output.renderOutput(dataTable, element);\n",
              "          const docLink = document.createElement('div');\n",
              "          docLink.innerHTML = docLinkHtml;\n",
              "          element.appendChild(docLink);\n",
              "        }\n",
              "      </script>\n",
              "    </div>\n",
              "  </div>\n",
              "  "
            ]
          },
          "metadata": {},
          "execution_count": 128
        }
      ]
    },
    {
      "cell_type": "markdown",
      "metadata": {
        "id": "G6ZFFJBi7VCK"
      },
      "source": [
        "##### Como está a nossa detecção de fraudes nesta solução proposta?\n",
        "\n",
        "Para esse cenário, o melhor modelo de detecção de fraude é a Random Forest. pois para esse tipo de modelo o custo de ter um falso negativo é maior do que um falso positivo, afinal prever uma transação fraudulenta(Verdadeiro positivo) como não fraudulenta(Falso Negativo) vai gerar consequências piores do que rotular incorretamente uma transação inofensiva como fraudulenta.\n",
        "\n",
        "Com esse modelo, 75% das fraudes foram detectadas corretamente com uma taxa verdadeiros negativos bem pequena (50 transações).\n",
        "\n",
        "O tempo para rodar o modelo também foi relativamente rápido com apenas aproximadamente 3 min de duração."
      ]
    },
    {
      "cell_type": "markdown",
      "source": [
        "#Variáveis mais importantes"
      ],
      "metadata": {
        "id": "O2e5c5UFVKnY"
      }
    },
    {
      "cell_type": "code",
      "source": [
        "fig = plt.figure(figsize = (14, 9))\n",
        "ax = fig.add_subplot(111)\n",
        "\n",
        "colours = plt.cm.Set1(np.linspace(0, 1, 9))\n",
        "\n",
        "ax = plot_importance(cpu_trained_model, height = 1, color = colours, grid = False, \\\n",
        "                     show_values = False, importance_type = 'cover', ax = ax);\n",
        "for axis in ['top','bottom','left','right']:\n",
        "            ax.spines[axis].set_linewidth(2)\n",
        "        \n",
        "ax.set_xlabel('importance score', size = 16);\n",
        "ax.set_ylabel('features', size = 16);\n",
        "ax.set_yticklabels(ax.get_yticklabels(), size = 12);\n",
        "ax.set_title('Variáveis mais importantes para o modelo', size = 20);"
      ],
      "metadata": {
        "colab": {
          "base_uri": "https://localhost:8080/",
          "height": 578
        },
        "id": "lMA_dZNTTJua",
        "outputId": "a4af988b-fb22-494b-b95e-dbe9df08adc8"
      },
      "execution_count": 135,
      "outputs": [
        {
          "output_type": "display_data",
          "data": {
            "text/plain": [
              "<Figure size 1008x648 with 1 Axes>"
            ],
            "image/png": "[encoded data removed]"
          },
          "metadata": {
            "needs_background": "light"
          }
        }
      ]
    },
    {
      "cell_type": "markdown",
      "source": [
        "Analisando as principais features, podemos inferir alguns pontos como:\n",
        "- É importante dar uma atenção especial aos tipos de transações \"Transfer\" e 'Cash_Out', como visto na EDA, elas foram as únicas utilizadas para fraudar.\n",
        "- Os novos saldos das contas de origem e  destino. Provavelmente há maior movimentação entre essas contas. Além disso, geralmente a conta de destino está zerada antes da transação e a conta de origem geralmente tem um novo saldo menor do que antes da transação."
      ],
      "metadata": {
        "id": "KL820-bkVIuP"
      }
    },
    {
      "cell_type": "markdown",
      "metadata": {
        "id": "6S8wcuf67VCK"
      },
      "source": [
        "### Tempo de Inferência"
      ]
    },
    {
      "cell_type": "markdown",
      "metadata": {
        "id": "NfZsTEWK7VCK"
      },
      "source": [
        "##### Por que o tempo de inferência é importante?\n",
        "\n",
        "O tempo de inferência está diretamente ligado aos requisitos para colocar um modelo de Machine Learning em produção. Portanto, analisar as métricas de desempenho do modelo é fundamental, mas não é o único aspecto a ser levado em consideração ao definir que o modelo obtido atende todos os requisitos.\n"
      ]
    }
  ]
}